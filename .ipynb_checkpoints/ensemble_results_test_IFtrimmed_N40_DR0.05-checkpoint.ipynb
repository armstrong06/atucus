{
 "cells": [
  {
   "cell_type": "code",
   "execution_count": 1,
   "metadata": {},
   "outputs": [],
   "source": [
    "from math import comb\n",
    "import numpy as np\n",
    "import matplotlib.pyplot as plt\n",
    "from scipy.stats import norm \n",
    "import os\n",
    "import pandas as pd"
   ]
  },
  {
   "cell_type": "code",
   "execution_count": 2,
   "metadata": {},
   "outputs": [],
   "source": [
    "def compute_outer_fence_mean_standard_deviation(residuals):\n",
    "        \"\"\" \n",
    "        Computes the mean and standard deviation using the outer fence method.\n",
    "        The outerfence is [25'th percentile - 1.5*IQR, 75'th percentile + 1.5*IQR]\n",
    "        where IQR is the interquartile range.\n",
    "\n",
    "        Parameters\n",
    "        ----------\n",
    "        residuals : The travel time residuals in seconds.\n",
    "\n",
    "        Results\n",
    "        -------\n",
    "        mean : The mean (seconds) of the residuals in the outer fence.\n",
    "        std : The standard deviation (seconds) of the residuals in the outer fence.  \n",
    "        \"\"\"\n",
    "        q1, q3 = np.percentile(residuals, [25,75])\n",
    "        iqr = q3 - q1\n",
    "        of1 = q1 - 3.0*iqr\n",
    "        of3 = q3 + 3.0*iqr\n",
    "        trimmed_residuals = residuals[(residuals > of1) & (residuals < of3)]\n",
    "        #print(len(trimmed_residuals), len(residuals), of1, of3)\n",
    "        mean = np.mean(trimmed_residuals)\n",
    "        std = np.std(trimmed_residuals)\n",
    "        return mean, std"
   ]
  },
  {
   "cell_type": "code",
   "execution_count": 3,
   "metadata": {},
   "outputs": [],
   "source": [
    "N = 40\n",
    "\n",
    "figdir=f\"./figures_median_ensemble_IFtrimmed_N{N}_DR0.05\"\n",
    "if not os.path.exists(figdir):\n",
    "    os.makedirs(figdir)\n",
    "    \n",
    "data_path = \"../uuss_data/p_resampled\""
   ]
  },
  {
   "cell_type": "code",
   "execution_count": 4,
   "metadata": {},
   "outputs": [],
   "source": [
    "def load_model_results(file_name, N=-1):\n",
    "    file = np.load(file_name)\n",
    "    predictions = file[\"predictions\"][:, :N]\n",
    "    targets = file[\"targets\"][:, 0]\n",
    "\n",
    "    return predictions, targets"
   ]
  },
  {
   "cell_type": "code",
   "execution_count": 5,
   "metadata": {},
   "outputs": [],
   "source": [
    "model1_file = \"seed1_128_0.0005_5e-3_0.0002_75_25_20/eval_checkpoint32_dropout0.05_FConly_N40/dropout_test_fewerhist_uncertainty_32.npz\"\n",
    "model2_file = \"seed2_128_0.0005_5e-3_0.0002_75_25_20/eval_checkpoint29_dropout0.05_FConly_N40/dropout_test_fewerhist_uncertainty_32.npz\"\n",
    "model3_file = \"seed3_128_0.0005_5e-3_0.0002_75_25_20/eval_checkpoint34_dropout0.05_FConly_N40/dropout_test_fewerhist_uncertainty_32.npz\"\n",
    "\n",
    "model1_preds, model1_targets = load_model_results(model1_file, N=N)\n",
    "model2_preds, model2_targets = load_model_results(model2_file, N=N)\n",
    "model3_preds, model3_targets = load_model_results(model3_file, N=N)"
   ]
  },
  {
   "cell_type": "code",
   "execution_count": 6,
   "metadata": {},
   "outputs": [
    {
     "data": {
      "text/plain": [
       "(79906, 40)"
      ]
     },
     "execution_count": 6,
     "metadata": {},
     "output_type": "execute_result"
    }
   ],
   "source": [
    "model1_preds.shape"
   ]
  },
  {
   "cell_type": "code",
   "execution_count": 7,
   "metadata": {},
   "outputs": [],
   "source": [
    "combined_predictions = np.concatenate([model1_preds, model2_preds, model3_preds], axis=1)\n",
    "assert np.array_equal(model1_targets, model2_targets)\n",
    "assert np.array_equal(model1_targets, model3_targets)"
   ]
  },
  {
   "cell_type": "code",
   "execution_count": 8,
   "metadata": {},
   "outputs": [
    {
     "data": {
      "text/plain": [
       "(79906, 120)"
      ]
     },
     "execution_count": 8,
     "metadata": {},
     "output_type": "execute_result"
    }
   ],
   "source": [
    "combined_predictions.shape"
   ]
  },
  {
   "cell_type": "code",
   "execution_count": 9,
   "metadata": {},
   "outputs": [],
   "source": [
    "q1, q3  = np.percentile(combined_predictions, [25,75], axis=1)\n",
    "iqr = q3 - q1\n",
    "if1 = q1 - 1.5*iqr\n",
    "if3 = q3 + 1.5*iqr\n",
    "trimmed_std = np.zeros(combined_predictions.shape[0])\n",
    "trimmed_predictions = []\n",
    "trimmed_median = np.zeros(combined_predictions.shape[0])\n",
    "for i in range(len(combined_predictions)):\n",
    "    trimmed = combined_predictions[i][np.where(np.logical_and(combined_predictions[i] > if1[i], \n",
    "                                                              combined_predictions[i] < if3[i]))]\n",
    "    trimmed_std[i] = np.std(trimmed)\n",
    "    trimmed_predictions.append(trimmed)\n",
    "    trimmed_median[i] = np.median(trimmed)"
   ]
  },
  {
   "cell_type": "code",
   "execution_count": 10,
   "metadata": {},
   "outputs": [],
   "source": [
    "trimmed_residuals = model1_targets - trimmed_median"
   ]
  },
  {
   "cell_type": "code",
   "execution_count": 11,
   "metadata": {},
   "outputs": [
    {
     "name": "stdout",
     "output_type": "stream",
     "text": [
      "seed 1 (0.004196998941400673, 0.05036155062548588) 0.08775049591342747\n",
      "seed 2 (0.0034882056589923245, 0.04961731290301575) 0.08818288022122879\n",
      "seed 3 (0.0037157669736985143, 0.048989138483737864) 0.08794466451948764\n"
     ]
    }
   ],
   "source": [
    "# Not trimmed - Individual model residuals using Median\n",
    "model1_resids = (model1_targets - np.median(model1_preds, axis=1))\n",
    "model2_resids = (model2_targets - np.median(model2_preds, axis=1))\n",
    "model3_resids = (model3_targets - np.median(model3_preds, axis=1))\n",
    "\n",
    "print(\"seed 1\", compute_outer_fence_mean_standard_deviation(model1_resids), \n",
    "     np.sqrt(np.sum(model1_resids**2)/len(model1_resids)))\n",
    "print(\"seed 2\", compute_outer_fence_mean_standard_deviation(model2_resids), \n",
    "     np.sqrt(np.sum(model2_resids**2)/len(model2_resids)))\n",
    "print(\"seed 3\", compute_outer_fence_mean_standard_deviation(model3_resids), \n",
    "     np.sqrt(np.sum(model3_resids**2)/len(model3_resids)))"
   ]
  },
  {
   "cell_type": "code",
   "execution_count": 12,
   "metadata": {},
   "outputs": [
    {
     "name": "stdout",
     "output_type": "stream",
     "text": [
      "(0.0038375027873733323, 0.04790381100555847)\n",
      "RMS 0.08682275331166629\n"
     ]
    },
    {
     "data": {
      "image/png": "[encoded data removed]",
      "text/plain": [
       "<Figure size 432x288 with 1 Axes>"
      ]
     },
     "metadata": {
      "needs_background": "light"
     },
     "output_type": "display_data"
    }
   ],
   "source": [
    "# Ensemble Without trimming\n",
    "predictions_median = np.median(combined_predictions, axis=1)\n",
    "print(compute_outer_fence_mean_standard_deviation((model1_targets - predictions_median)))\n",
    "plt.hist((model1_targets - predictions_median), bins=np.arange(-0.4, 0.41, 0.01), edgecolor=\"k\" );\n",
    "plt.ylabel(\"Counts\", fontsize=14)\n",
    "plt.xlabel(\"Seconds\", fontsize=14)\n",
    "\n",
    "# RMS\n",
    "print(\"RMS\", np.sqrt(np.sum((model1_targets - predictions_median)**2)/len((model1_targets - predictions_median))))"
   ]
  },
  {
   "cell_type": "code",
   "execution_count": 13,
   "metadata": {},
   "outputs": [
    {
     "name": "stdout",
     "output_type": "stream",
     "text": [
      "(0.0038349154538749076, 0.047858857350688386)\n",
      "RMS 0.08681999853532708\n"
     ]
    },
    {
     "data": {
      "image/png": "[encoded data removed]",
      "text/plain": [
       "<Figure size 432x288 with 1 Axes>"
      ]
     },
     "metadata": {
      "needs_background": "light"
     },
     "output_type": "display_data"
    }
   ],
   "source": [
    "# with trimming\n",
    "print(compute_outer_fence_mean_standard_deviation((trimmed_residuals)))\n",
    "plt.hist((trimmed_residuals), bins=np.arange(-0.4, 0.41, 0.01), edgecolor=\"k\" );\n",
    "plt.ylabel(\"Counts\", fontsize=14)\n",
    "plt.xlabel(\"Seconds\", fontsize=14)\n",
    "\n",
    "# RMS\n",
    "print(\"RMS\", np.sqrt(np.sum(trimmed_residuals**2)/len(trimmed_residuals)))"
   ]
  },
  {
   "cell_type": "code",
   "execution_count": 14,
   "metadata": {},
   "outputs": [
    {
     "name": "stdout",
     "output_type": "stream",
     "text": [
      "-0.8388394117355347\n",
      "0.8293920457363129\n"
     ]
    }
   ],
   "source": [
    "print(np.min(trimmed_residuals))\n",
    "print(np.max(trimmed_residuals))"
   ]
  },
  {
   "cell_type": "code",
   "execution_count": 15,
   "metadata": {},
   "outputs": [],
   "source": [
    "import h5py\n",
    "f = h5py.File(f\"{data_path}/uuss_test_fewerhist_4s_1dup.h5\", \"r\")\n",
    "X = f[\"X\"][:]\n",
    "Y = f[\"Y\"][:]\n",
    "f.close()\n",
    "\n",
    "\n",
    "import pandas as pd\n",
    "meta_df = pd.read_csv(f\"{data_path}/uuss_test_fewerhist.csv\")"
   ]
  },
  {
   "cell_type": "code",
   "execution_count": 16,
   "metadata": {},
   "outputs": [],
   "source": [
    "wf_len = X.shape[1]\n",
    "wf_center = wf_len//2"
   ]
  },
  {
   "cell_type": "code",
   "execution_count": 17,
   "metadata": {},
   "outputs": [],
   "source": [
    "from joblib import load\n",
    "s_cal = load(f'p_dropout_calibration_model_medians_ensemble_IFtrimmed_N{N}_DR0.05.joblib')\n",
    "\n",
    "lb = 0.05\n",
    "ub = 0.95\n",
    "\n",
    "# Transform the lower and upper bounds to be calibrated\n",
    "lb_transform = s_cal.transform([lb])[0]\n",
    "ub_transform = s_cal.transform([ub])[0]\n",
    "\n",
    "# Compute the lower and upper bounds for each prediction given the mean and std\n",
    "# test_df[\"lb_y\"] = test_df.apply(lambda x: norm.ppf(lb_transform, x[\"y_pred\"], x[\"std\"]), axis=1)\n",
    "# test_df[\"ub_y\"] = test_df.apply(lambda x: norm.ppf(ub_transform, x[\"y_pred\"], x[\"std\"]), axis=1)"
   ]
  },
  {
   "cell_type": "code",
   "execution_count": 18,
   "metadata": {},
   "outputs": [
    {
     "name": "stdout",
     "output_type": "stream",
     "text": [
      "0.023752053326632317\n",
      "0.9891211219207604\n",
      "7.033778200287539e-08\n",
      "0.9999997765709301\n"
     ]
    }
   ],
   "source": [
    "print( s_cal.transform([0.16])[0])\n",
    "print( s_cal.transform([0.84])[0])\n",
    "print( s_cal.transform([0.05])[0])\n",
    "print( s_cal.transform([0.95])[0])"
   ]
  },
  {
   "cell_type": "code",
   "execution_count": 19,
   "metadata": {},
   "outputs": [
    {
     "data": {
      "text/html": [
       "<div>\n",
       "<style scoped>\n",
       "    .dataframe tbody tr th:only-of-type {\n",
       "        vertical-align: middle;\n",
       "    }\n",
       "\n",
       "    .dataframe tbody tr th {\n",
       "        vertical-align: top;\n",
       "    }\n",
       "\n",
       "    .dataframe thead th {\n",
       "        text-align: right;\n",
       "    }\n",
       "</style>\n",
       "<table border=\"1\" class=\"dataframe\">\n",
       "  <thead>\n",
       "    <tr style=\"text-align: right;\">\n",
       "      <th></th>\n",
       "      <th>y_pred</th>\n",
       "      <th>std</th>\n",
       "    </tr>\n",
       "  </thead>\n",
       "  <tbody>\n",
       "    <tr>\n",
       "      <th>0</th>\n",
       "      <td>0.288105</td>\n",
       "      <td>0.014237</td>\n",
       "    </tr>\n",
       "    <tr>\n",
       "      <th>1</th>\n",
       "      <td>0.195140</td>\n",
       "      <td>0.013044</td>\n",
       "    </tr>\n",
       "    <tr>\n",
       "      <th>2</th>\n",
       "      <td>0.413204</td>\n",
       "      <td>0.019161</td>\n",
       "    </tr>\n",
       "    <tr>\n",
       "      <th>3</th>\n",
       "      <td>0.465821</td>\n",
       "      <td>0.021395</td>\n",
       "    </tr>\n",
       "    <tr>\n",
       "      <th>4</th>\n",
       "      <td>0.137764</td>\n",
       "      <td>0.014536</td>\n",
       "    </tr>\n",
       "  </tbody>\n",
       "</table>\n",
       "</div>"
      ],
      "text/plain": [
       "     y_pred       std\n",
       "0  0.288105  0.014237\n",
       "1  0.195140  0.013044\n",
       "2  0.413204  0.019161\n",
       "3  0.465821  0.021395\n",
       "4  0.137764  0.014536"
      ]
     },
     "execution_count": 19,
     "metadata": {},
     "output_type": "execute_result"
    }
   ],
   "source": [
    "# combined_df = pd.DataFrame([combined_means, combined_stds]).transpose()\n",
    "combined_df = pd.DataFrame([trimmed_median, trimmed_std]).transpose()\n",
    "combined_df.columns = [\"y_pred\", \"std\"]\n",
    "combined_df.head()"
   ]
  },
  {
   "cell_type": "code",
   "execution_count": 20,
   "metadata": {},
   "outputs": [],
   "source": [
    "from scipy.stats import norm \n",
    "combined_df[\"lb_y\"] = combined_df.apply(lambda x: norm.ppf(lb_transform, x[\"y_pred\"], x[\"std\"]), axis=1)\n",
    "combined_df[\"ub_y\"] = combined_df.apply(lambda x: norm.ppf(ub_transform, x[\"y_pred\"], x[\"std\"]), axis=1)"
   ]
  },
  {
   "cell_type": "code",
   "execution_count": 21,
   "metadata": {},
   "outputs": [],
   "source": [
    "combined_df.loc[:, \"y_act\"] = model1_targets"
   ]
  },
  {
   "cell_type": "code",
   "execution_count": 22,
   "metadata": {},
   "outputs": [
    {
     "data": {
      "text/html": [
       "<div>\n",
       "<style scoped>\n",
       "    .dataframe tbody tr th:only-of-type {\n",
       "        vertical-align: middle;\n",
       "    }\n",
       "\n",
       "    .dataframe tbody tr th {\n",
       "        vertical-align: top;\n",
       "    }\n",
       "\n",
       "    .dataframe thead th {\n",
       "        text-align: right;\n",
       "    }\n",
       "</style>\n",
       "<table border=\"1\" class=\"dataframe\">\n",
       "  <thead>\n",
       "    <tr style=\"text-align: right;\">\n",
       "      <th></th>\n",
       "      <th>y_pred</th>\n",
       "      <th>std</th>\n",
       "      <th>lb_y</th>\n",
       "      <th>ub_y</th>\n",
       "      <th>y_act</th>\n",
       "    </tr>\n",
       "  </thead>\n",
       "  <tbody>\n",
       "    <tr>\n",
       "      <th>0</th>\n",
       "      <td>0.288105</td>\n",
       "      <td>0.014237</td>\n",
       "      <td>0.213158</td>\n",
       "      <td>0.359969</td>\n",
       "      <td>0.32</td>\n",
       "    </tr>\n",
       "    <tr>\n",
       "      <th>1</th>\n",
       "      <td>0.195140</td>\n",
       "      <td>0.013044</td>\n",
       "      <td>0.126474</td>\n",
       "      <td>0.260983</td>\n",
       "      <td>0.20</td>\n",
       "    </tr>\n",
       "    <tr>\n",
       "      <th>2</th>\n",
       "      <td>0.413204</td>\n",
       "      <td>0.019161</td>\n",
       "      <td>0.312335</td>\n",
       "      <td>0.509924</td>\n",
       "      <td>0.43</td>\n",
       "    </tr>\n",
       "    <tr>\n",
       "      <th>3</th>\n",
       "      <td>0.465821</td>\n",
       "      <td>0.021395</td>\n",
       "      <td>0.353188</td>\n",
       "      <td>0.573821</td>\n",
       "      <td>0.45</td>\n",
       "    </tr>\n",
       "    <tr>\n",
       "      <th>4</th>\n",
       "      <td>0.137764</td>\n",
       "      <td>0.014536</td>\n",
       "      <td>0.061240</td>\n",
       "      <td>0.211141</td>\n",
       "      <td>0.18</td>\n",
       "    </tr>\n",
       "  </tbody>\n",
       "</table>\n",
       "</div>"
      ],
      "text/plain": [
       "     y_pred       std      lb_y      ub_y  y_act\n",
       "0  0.288105  0.014237  0.213158  0.359969   0.32\n",
       "1  0.195140  0.013044  0.126474  0.260983   0.20\n",
       "2  0.413204  0.019161  0.312335  0.509924   0.43\n",
       "3  0.465821  0.021395  0.353188  0.573821   0.45\n",
       "4  0.137764  0.014536  0.061240  0.211141   0.18"
      ]
     },
     "execution_count": 22,
     "metadata": {},
     "output_type": "execute_result"
    }
   ],
   "source": [
    "combined_df.head()"
   ]
  },
  {
   "cell_type": "code",
   "execution_count": 23,
   "metadata": {},
   "outputs": [],
   "source": [
    "combined_df.to_csv(f\"calibrated_CI_ensemble_test_fewerhist_N{N}_DR0.05.csv\")"
   ]
  },
  {
   "cell_type": "code",
   "execution_count": null,
   "metadata": {
    "scrolled": true
   },
   "outputs": [],
   "source": [
    "quality_map = {1.0:0, 0.75:1, 0.5:2}\n",
    "for i in range(0, 200):\n",
    "    shift = model1_targets[i]\n",
    "    shifted_predictions = trimmed_predictions[i]-shift\n",
    "    shifted_m1_preds = model1_preds[i, :][np.where(np.logical_and(model1_preds[i, :] > if1[i], model1_preds[i, :] < if3[i]))] - shift\n",
    "    shifted_m2_preds = model2_preds[i, :][np.where(np.logical_and(model2_preds[i, :] > if1[i], model2_preds[i, :] < if3[i]))] - shift\n",
    "    shifted_m3_preds = model3_preds[i, :][np.where(np.logical_and(model3_preds[i, :] > if1[i], model3_preds[i, :] < if3[i]))] - shift\n",
    "#     shifted_m1_preds = model1_preds[i, :] - shift\n",
    "#     shifted_m2_preds = model2_preds[i, :] - shift\n",
    "#     shifted_m3_preds = model3_preds[i, :] - shift\n",
    "#     #print(shifted_m1_preds.shape, shifted_m2_preds.shape, shifted_m3_preds.shape)\n",
    "    #shifted_pick = combined_means[i]-shift\n",
    "    shifted_pick = trimmed_median[i] - shift\n",
    "    #print(model1_targets[i], predictions_median[i], model1_targets[i]-predictions_median[i], shifted_pick)\n",
    "\n",
    "    std = trimmed_std[i]\n",
    "    quality = quality_map[meta_df.iloc[i].pick_quality]\n",
    "    fig, ax = plt.subplots(1)\n",
    "        \n",
    "    ## Horizontal line at 0\n",
    "    ax.axhline(0, alpha=0.2, color=\"k\")\n",
    "    \n",
    "    lb_y = combined_df.iloc[i][\"lb_y\"] - shift\n",
    "    ub_y = combined_df.iloc[i][\"ub_y\"] - shift\n",
    "\n",
    "    width = round(np.max([np.max(abs(shifted_predictions)) + 0.1, abs(lb_y), abs(ub_y), 0.2]), 2)\n",
    "    \n",
    "#     width = round(np.max([np.max(abs(shifted_m1_preds)) + 0.1,\n",
    "#                       np.max(abs(shifted_m2_preds)) + 0.1,\n",
    "#                       np.max(abs(shifted_m3_preds)) + 0.1, abs(lb_y), abs(ub_y)]), 2)\n",
    "\n",
    "    ## Prediction histogram\n",
    "    #bins = ax.hist(shifted_predictions, bins=30, density=True, alpha=0.7)\n",
    "    #bins = np.arange(round(np.min(shifted_predictions)-0.02, 2), round(np.max(shifted_predictions)+0.02, 2), 0.01)\n",
    "    bins = np.arange(round(-1*width, 2), round(width, 2), 0.01)\n",
    "\n",
    "    bins = ax.hist([shifted_m1_preds, shifted_m2_preds, shifted_m3_preds], bins=bins, stacked=True, density = True, \n",
    "                   alpha=1.0, edgecolor=\"black\", linewidth=0.7, label=[\"m1\", \"m2\", \"m3\"], \n",
    "                   color=[\"#5ab4ac\", \"#c7eae5\", \"#01665e\"])\n",
    "                   #color=[\"#ffffcc\", \"#2c7fb8\", \"#41b6c4\"])\n",
    "                   #color=[\"#EA5F94\", \"#FA8775\", \"#FFB14E\"])\n",
    "                   #color=[\"#D81B60\", \"#1E88E5\", \"#FFC107\"])\n",
    "    \n",
    "\n",
    "    \n",
    "    ## Trim and scale waveform\n",
    "    max_dens = np.max(bins[0])\n",
    "    #     width = round(np.max(abs(shifted_predictions)) + 0.1, 2)\n",
    "    #width = round(np.max([np.max(abs(shifted_predictions)) + 0.1, abs(lb_y), abs(ub_y)]), 2)\n",
    "\n",
    "    wf_width = round(width*100)\n",
    "    pick_loc = wf_center + int(Y[i]*100)\n",
    "    wf = (X[i, pick_loc-wf_width:pick_loc+wf_width+1])\n",
    "    # wf_norm = np.array(max_dens)/np.max(abs(wf), axis=0)\n",
    "    wf_norm = max_dens/np.max(abs(wf))\n",
    "\n",
    "    ## Plot waveform\n",
    "    x_vals = np.arange(-width, round(width+0.01, 2), 0.01)\n",
    "    ax.plot(x_vals[:len(wf)], wf*wf_norm, color=\"dimgray\", label=\"Z\")\n",
    "#     ax.plot(x_vals[:len(wf)], wf[:, 1]*wf_norm[1], color=\"slategray\", label=\"N\")\n",
    "#     ax.plot(x_vals[:len(wf)], wf[:, 2]*wf_norm[2], color=\"darkgray\", label=\"Z\")\n",
    "\n",
    "    ## Plot gaussion over predictions\n",
    "\n",
    "#     hist_range = np.zeros(len(bins[1])+2)\n",
    "#     hist_range[0] = bins[1][0] - 0.01\n",
    "#     hist_range[-1] = bins[1][-1] + 0.01\n",
    "#     hist_range[1:-1] = bins[1]\n",
    "    #ax.plot(hist_range, norm.pdf(hist_range, shifted_pick, std), color=\"r\")\n",
    "    #ax.axvline(shifted_pick - std, linestyle=(5, (10, 3)), ymin=0.5, color=\"k\", label=\"1 std\")\n",
    "    #ax.axvline(shifted_pick + std, linestyle=(5, (10, 3)), color=\"k\")\n",
    "    \n",
    "    ## Plot calibrated upper and lower bounds\n",
    "    ax.axvline(lb_y, color=\"k\", linestyle=\"--\", linewidth=2)\n",
    "    ax.axvline(ub_y, color=\"k\", linestyle=\"--\", linewidth=2, label=\"C. I.\")\n",
    "    \n",
    "    ## Only plot positive density ticks\n",
    "    ax.set_yticks(np.arange(0, max_dens+10, 10))\n",
    "    \n",
    "    ## Plot STD and Pick Quality Information\n",
    "    ax.text(0.025, 0.75, f\"Analyst Quality: {quality}\\nSTD: {str(round(std, 3))}\\nC. I.: {str(round(ub_y-lb_y, 3))}\", transform=ax.transAxes, fontsize=12, \n",
    "           bbox=dict(facecolor='white', alpha=0.9, edgecolor=\"lightgrey\", boxstyle=\"round\"))\n",
    "    \n",
    "    ## Set X & Y labels\n",
    "    ax.set_ylabel(\"Density\", fontsize=14)\n",
    "    ax.set_xlabel(\"Seconds\", fontsize=14)\n",
    "    \n",
    "    ## Only plot STD lines for positive density\n",
    "    ylim = ax.get_ylim()\n",
    "#     ax.vlines(shifted_pick - std, ymin=ylim[0], ymax=ylim[1], linestyle=\"--\", label=\"1 std\", \n",
    "#               linewidth=2.5, color=\"#d8b365\") #color=\"#f6e8c3\")\n",
    "#     ax.vlines(shifted_pick + std, ymin=ylim[0], ymax=ylim[1], linestyle=\"--\", linewidth=2.5, color=\"#d8b365\") # color=\"#f6e8c3\")\n",
    "    \n",
    "    ax.axvline(shifted_pick - std, linestyle=\"--\", label=\"1 std\", linewidth=2.5, color=\"#d8b365\") #color=\"#f6e8c3\")\n",
    "    ax.axvline(shifted_pick + std, linestyle=\"--\", linewidth=2.5, color=\"#d8b365\") # color=\"#f6e8c3\")\n",
    "   \n",
    "\n",
    "    #ax.axvline(if1[i]-shift, color=\"purple\")\n",
    "    #ax.axvline(if3[i]-shift, color=\"purple\")\n",
    "    \n",
    "    ax.set_ylim([np.min([ylim[0], -0.75*ylim[1]]), ylim[1]])\n",
    "    \n",
    "    ## Plot picks\n",
    "    ax.axvline(shifted_pick, label=\"y_pred\", linewidth=2, color=\"#d8b365\")\n",
    "    ax.axvline(0, label=\"y_act\", linewidth=2, color=\"#8c510a\") #color=\"#253494\")#color=\"#004D40\")\n",
    "        \n",
    "    ## Change order of legend to make more sense/look better\n",
    "    handles, labels = plt.gca().get_legend_handles_labels()\n",
    "    order = [0,5,6,7,4,3,2,1]\n",
    "    plt.legend([handles[idx] for idx in order],[labels[idx] for idx in order], loc=\"lower left\", ncol=2,\n",
    "              borderpad=0.2, columnspacing=1.0)\n",
    "    #ax.legend(loc=\"lower left\", ncol=3)\n",
    "    plt.savefig(f\"{figdir}/test_wf_dr0.1_{i:02d}.jpg\")\n",
    "    plt.close()\n",
    "    #plt.show()\n",
    "    \n",
    "#     plt.figure()\n",
    "#     plt.plot(range(len(x_e)), x_e/np.max(abs(x_e)))\n",
    "#     plt.plot(range(len(x_n)), x_n/np.max(abs(x_n))-1)\n",
    "#     plt.plot(range(len(x_t)), x_t/np.max(abs(x_t))-2)"
   ]
  },
  {
   "cell_type": "code",
   "execution_count": null,
   "metadata": {},
   "outputs": [],
   "source": [
    "((combined_df[\"y_act\"] > (combined_df[\"y_pred\"])-combined_df[\"std\"]) & (combined_df[\"y_act\"] < (combined_df[\"y_pred\"])+combined_df[\"std\"])).sum()/len(combined_df)"
   ]
  },
  {
   "cell_type": "code",
   "execution_count": null,
   "metadata": {},
   "outputs": [],
   "source": []
  }
 ],
 "metadata": {
  "kernelspec": {
   "display_name": "Python 3",
   "language": "python",
   "name": "python3"
  },
  "language_info": {
   "codemirror_mode": {
    "name": "ipython",
    "version": 3
   },
   "file_extension": ".py",
   "mimetype": "text/x-python",
   "name": "python",
   "nbconvert_exporter": "python",
   "pygments_lexer": "ipython3",
   "version": "3.8.5"
  }
 },
 "nbformat": 4,
 "nbformat_minor": 4
}
