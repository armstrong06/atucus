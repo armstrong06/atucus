{
 "cells": [
  {
   "cell_type": "code",
   "execution_count": 1,
   "metadata": {},
   "outputs": [],
   "source": [
    "import pandas as pd\n",
    "import numpy as np\n",
    "import matplotlib.pyplot as plt\n",
    "from scipy.stats import norm \n",
    "from sklearn.isotonic import IsotonicRegression"
   ]
  },
  {
   "cell_type": "code",
   "execution_count": 2,
   "metadata": {},
   "outputs": [
    {
     "name": "stdout",
     "output_type": "stream",
     "text": [
      "dropout_NGB_uncertainty_34.npz\r\n",
      "dropout_NGB_uncertainty_34_residual_summary_40.csv\r\n",
      "dropout_test_fewerhist_uncertainty_34.npz\r\n",
      "dropout_test_fewerhist_uncertainty_34_residual_summary_40.csv\r\n",
      "dropout_validation_uncertainty_34.npz\r\n",
      "dropout_validation_uncertainty_34_residual_summary_40.csv\r\n"
     ]
    }
   ],
   "source": [
    "ls seed3_128_0.0005_5e-3_0.0002_75_25_20/eval_checkpoint34_dropout0.3_FConly_N40"
   ]
  },
  {
   "cell_type": "code",
   "execution_count": 3,
   "metadata": {},
   "outputs": [],
   "source": [
    "def load_model_results(file_name, N=-1):\n",
    "    file = np.load(file_name)\n",
    "    if N<0:\n",
    "        predictions = file[\"predictions\"][:, :]\n",
    "    else:\n",
    "        predictions = file[\"predictions\"][:, :N]\n",
    "\n",
    "    targets = file[\"targets\"][:, 0]\n",
    "\n",
    "    return predictions, targets\n",
    "\n",
    "def load_ensemble_predictions(dtype, data_path, N, trim=True):\n",
    "    model1_file = f\"seed1_128_0.0005_5e-3_0.0002_75_25_20/eval_checkpoint32_dropout0.3_FConly_N500/dropout_{dtype}_uncertainty_32.npz\"\n",
    "    model2_file = f\"seed2_128_0.0005_5e-3_0.0002_75_25_20/eval_checkpoint29_dropout0.3_FConly_N500/dropout_{dtype}_uncertainty_29.npz\"\n",
    "    model3_file = f\"seed3_128_0.0005_5e-3_0.0002_75_25_20/eval_checkpoint34_dropout0.3_FConly_N500/dropout_{dtype}_uncertainty_34.npz\"\n",
    "\n",
    "    model1_preds, model1_targets = load_model_results(model1_file, N=N)\n",
    "    model2_preds, model2_targets = load_model_results(model2_file, N=N)\n",
    "    model3_preds, model3_targets = load_model_results(model3_file, N=N)\n",
    "    print(model1_preds.shape)\n",
    "    # Join all predictions\n",
    "    ensemble_predictions = np.concatenate([model1_preds, model2_preds, model3_preds], axis=1)\n",
    "    print(ensemble_predictions.shape)\n",
    "    \n",
    "    if trim:\n",
    "        print(\"trimming predictions\")\n",
    "        q1, q3  = np.percentile(ensemble_predictions, [25, 75], axis=1)\n",
    "        iqr = q3 - q1\n",
    "        if1 = q1 - 1.5*iqr\n",
    "        if3 = q3 + 1.5*iqr\n",
    "        ensemble_stds = np.zeros(ensemble_predictions.shape[0])\n",
    "        ensemble_medians = np.zeros(ensemble_predictions.shape[0])\n",
    "        for i in range(len(ensemble_predictions)):\n",
    "            trimmed = ensemble_predictions[i][np.where(np.logical_and(ensemble_predictions[i] > if1[i], \n",
    "                                                                      ensemble_predictions[i] < if3[i]))]\n",
    "            ensemble_stds[i] = np.std(trimmed)\n",
    "            ensemble_medians[i] = np.median(trimmed)\n",
    "    else:\n",
    "        ensemble_medians = np.median(ensemble_predictions, axis=1)\n",
    "        ensemble_stds = np.std(ensemble_predictions, axis=1)\n",
    "        \n",
    "    # Ensure targets are the same for all three models\n",
    "    assert np.array_equal(model1_targets, model2_targets)\n",
    "    assert np.array_equal(model1_targets, model3_targets)\n",
    "    # Calculate residual stats (actual-predicted)\n",
    "    #pick_residuals = model1_targets - ensemble_means\n",
    "    pick_residuals = model1_targets - ensemble_medians\n",
    "    residual_mean = np.mean(pick_residuals)\n",
    "    residual_std = np.std(pick_residuals)\n",
    "\n",
    "    # Combine into a dataframe\n",
    "    #df_data = {\"y_pred\":ensemble_means, \"std\":ensemble_stds, \"y_act\":model1_targets, \"residual\":pick_residuals}\n",
    "    df_data = {\"y_pred\":ensemble_medians, \"std\":ensemble_stds, \"y_act\":model1_targets, \"residual\":pick_residuals}\n",
    "\n",
    "    df = pd.DataFrame(data=df_data)\n",
    "    df.head()\n",
    "\n",
    "    # read in meta_df\n",
    "    if dtype==\"test\":\n",
    "        dtype=\"test_fewerhist\"\n",
    "    meta_df = pd.read_csv(f\"{data_path}/uuss_{dtype}.csv\")\n",
    "\n",
    "    return df, meta_df"
   ]
  },
  {
   "cell_type": "code",
   "execution_count": 4,
   "metadata": {},
   "outputs": [
    {
     "name": "stdout",
     "output_type": "stream",
     "text": [
      "(37476, 40)\n",
      "(37476, 120)\n",
      "trimming predictions\n",
      "(79906, 40)\n",
      "(79906, 120)\n",
      "trimming predictions\n"
     ]
    }
   ],
   "source": [
    "N=40\n",
    "val_df, val_meta_df = load_ensemble_predictions(\"validation\", \"../uuss_data/p_resampled\", N=N)\n",
    "test_df, test_meta_df = load_ensemble_predictions(\"test_fewerhist\", \"../uuss_data/p_resampled\", N=N)"
   ]
  },
  {
   "cell_type": "code",
   "execution_count": 5,
   "metadata": {},
   "outputs": [
    {
     "name": "stdout",
     "output_type": "stream",
     "text": [
      "Validation df lengths: 37476 37476\n",
      "Test df lengths: 79906 79906\n",
      "Shared evids between datasets?: False\n"
     ]
    }
   ],
   "source": [
    "print(\"Validation df lengths:\", len(val_df), len(val_meta_df))\n",
    "print(\"Test df lengths:\", len(test_df), len(test_meta_df))\n",
    "print(\"Shared evids between datasets?:\", np.any(np.isin(test_meta_df.evid.unique(), val_meta_df.evid.unique())))"
   ]
  },
  {
   "cell_type": "markdown",
   "metadata": {},
   "source": [
    "# Accurate Uncertainties for Deep Learning Using Calibrated Regression\n",
    "Recalibration dataset $D = \\{ (F_t(y_t) , \\hat{P}(F_t(y_t))) \\}_{t=1}^T$\n",
    "1. Compute $F_t$ = CDF[$N(\\mu_t, \\sigma^2_t)]$ for t $\\in$ [1, T]\n",
    "2. Evalute $F_t(y_t)$ for t $\\in$ [1, T]\n",
    "3. compute $\\hat{P}(p)=\\frac{| \\{y_t | F_t(y_t) \\leq p, t=1...,T \\}|}{T}$, where $p=F_t(y_t)$ for t $\\in$ [1, T]\n",
    "\n",
    "Fit Isotonic Regression model R to D\n",
    "\n",
    "- Fitting regression model to D' = $\\{( \\hat{P}(F_t(y_t)), F_t(y_t)) \\}_{t=1}^T$ seems easier for adjusting the \"standard deviation\" to be calibrated.\n",
    "- When using D, will need to compute the CDF of the Gaussian with predicted $\\mu$ and $\\sigma$, transform with R, and then invert for $x_{lb}$ and $x_{ub}$. Since the CDF has been transformed, norm.ppf can no longer be used to invert. \n",
    "- When using D', can compute the ppf of the gaussian with predicted $\\mu$ and $\\sigma$ and evaluate it at R(lb) and R(ub). \n",
    "- I show below that $x_{lb}$ and $x_{ub}$ computed using the D' method intersect with the transformed CDF computed using D at 0.16 and 0.84. "
   ]
  },
  {
   "cell_type": "markdown",
   "metadata": {},
   "source": [
    "## Fit Predicted vs Empirical Curve $D = \\{ (F_t(y_t) , \\hat{P}(F_t(y_t))) \\}_{t=1}^T$ with Isotonic Regression"
   ]
  },
  {
   "cell_type": "code",
   "execution_count": 6,
   "metadata": {},
   "outputs": [
    {
     "name": "stdout",
     "output_type": "stream",
     "text": [
      "     y_pred       std  y_act  residual       cdf\n",
      "0  0.305364  0.038991   0.32  0.014636  0.646307\n",
      "1  0.142781  0.037745   0.20  0.057219  0.935234\n",
      "2  0.399767  0.054740   0.43  0.030233  0.709627\n",
      "3  0.368695  0.088750   0.45  0.081305  0.820194\n",
      "4  0.242631  0.039389   0.18 -0.062631  0.055907\n"
     ]
    }
   ],
   "source": [
    "# Do steps 1 & 2\n",
    "def eval_cdf(df):\n",
    "    df[\"cdf\"] = df.apply(lambda x: norm.cdf(x[\"y_act\"], x[\"y_pred\"], x[\"std\"]), axis=1)\n",
    "    print(df.head())\n",
    "eval_cdf(val_df)"
   ]
  },
  {
   "cell_type": "code",
   "execution_count": 7,
   "metadata": {},
   "outputs": [
    {
     "data": {
      "image/png": "[encoded data removed]",
      "text/plain": [
       "<Figure size 432x288 with 1 Axes>"
      ]
     },
     "metadata": {
      "needs_background": "light"
     },
     "output_type": "display_data"
    }
   ],
   "source": [
    "# Do step 3\n",
    "def plot_empirical_cdf(df, swap_xy=False):\n",
    "    fig = plt.figure()\n",
    "    plt.plot(np.arange(0, 1.01, 0.1), np.arange(0, 1.01, 0.1), color=\"gray\", linestyle=\"--\", label=\"Perfect Calibration\")\n",
    "    if not swap_xy:\n",
    "        plt.scatter(df.cdf.values, df.p_hat.values, alpha=0.1)\n",
    "        plt.ylabel(\"Empirical Cumulative Distribution\")\n",
    "        plt.xlabel(\"Predicted Cumulative Distribution\")\n",
    "    else:\n",
    "        plt.scatter(df.p_hat.values, df.cdf.values, alpha=0.1)\n",
    "        plt.xlabel(\"Empirical Cumulative Distribution\")\n",
    "        plt.ylabel(\"Predicted Cumulative Distribution\")\n",
    "    plt.title(\"Estimating Cumulative Density of Forecast\")\n",
    "    plt.legend();\n",
    "    plt.show()\n",
    "    \n",
    "def compute_empirical_cdf(df, swap_xy=False):\n",
    "    p_hat = []\n",
    "    T = len(df)\n",
    "    for index, row in df.iterrows():\n",
    "        p = row[\"cdf\"]\n",
    "        p_hat.append((df[\"cdf\"] <= p).sum()/T)\n",
    "    df[\"p_hat\"] = p_hat\n",
    "\n",
    "    plot_empirical_cdf(df, swap_xy)\n",
    "compute_empirical_cdf(val_df)"
   ]
  },
  {
   "cell_type": "code",
   "execution_count": 8,
   "metadata": {},
   "outputs": [],
   "source": [
    "def check_nondecreasing(df):\n",
    "    assert ~np.any(np.diff(df.sort_values(\"cdf\")[\"p_hat\"].values) < 0), \"CDF vs P_Hat is not non-decreasing\"\n",
    "    assert ~np.any(np.diff(df.sort_values(\"p_hat\")[\"cdf\"].values) < 0), \"P_Hat vs CDF is not non-decreasing\"\n",
    "    \n",
    "check_nondecreasing(val_df)"
   ]
  },
  {
   "cell_type": "code",
   "execution_count": 9,
   "metadata": {},
   "outputs": [],
   "source": [
    "def plot_calibration_curve(df, regressor, title, swap_xy=False):\n",
    "    p_hat_cal = []\n",
    "    p_hat_uncal = []\n",
    "    T = len(df)\n",
    "    for p in np.arange(0, 1.05, 0.05):\n",
    "        if swap_xy:\n",
    "            p_hat_cal.append((df.cdf <= regressor.predict([p])[0]).sum()/T)\n",
    "        else:\n",
    "            p_hat_cal.append((regressor.predict(df.cdf) <= p).sum()/T)\n",
    "        \n",
    "        p_hat_uncal.append((df[\"cdf\"] <= p).sum()/T)\n",
    "\n",
    "    plt.plot(np.arange(0, 1.05, 0.05), np.arange(0, 1.05, 0.05), color=\"gray\", linestyle=\"--\")\n",
    "    plt.plot(np.arange(0, 1.05, 0.05), p_hat_cal, marker=\"o\", label=\"calibrated\")\n",
    "    plt.plot(np.arange(0, 1.05, 0.05), p_hat_uncal, marker=\"o\", label=\"uncalibrated\")\n",
    "    plt.legend()\n",
    "    plt.title(title)"
   ]
  },
  {
   "cell_type": "markdown",
   "metadata": {},
   "source": [
    "## Fit Empirical vs Predicted Curve $D=\\{( \\hat{P}(F_t(y_t)), F_t(y_t)) \\}_{t=1}^T$ with Isotonic Regression"
   ]
  },
  {
   "cell_type": "code",
   "execution_count": 10,
   "metadata": {},
   "outputs": [
    {
     "data": {
      "image/png": "[encoded data removed]",
      "text/plain": [
       "<Figure size 432x288 with 1 Axes>"
      ]
     },
     "metadata": {
      "needs_background": "light"
     },
     "output_type": "display_data"
    }
   ],
   "source": [
    "# Inner fence median\n",
    "plot_empirical_cdf(val_df, swap_xy=True)"
   ]
  },
  {
   "cell_type": "code",
   "execution_count": 11,
   "metadata": {},
   "outputs": [
    {
     "data": {
      "image/png": "[encoded data removed]",
      "text/plain": [
       "<Figure size 432x288 with 1 Axes>"
      ]
     },
     "metadata": {
      "needs_background": "light"
     },
     "output_type": "display_data"
    }
   ],
   "source": [
    "# Fit isotonic regression model to Empirical vs Predicted curve. \n",
    "iso_reg_inv = IsotonicRegression().fit(val_df.p_hat.values, val_df.cdf.values)\n",
    "plot_calibration_curve(val_df, iso_reg_inv, r\"Validation Calibration Curve - fit$(\\hat{P}, F_t)$\", swap_xy=True)"
   ]
  },
  {
   "cell_type": "code",
   "execution_count": 12,
   "metadata": {},
   "outputs": [
    {
     "name": "stdout",
     "output_type": "stream",
     "text": [
      "     y_pred       std  y_act  residual       cdf\n",
      "0  0.279991  0.036091   0.32  0.040009  0.866185\n",
      "1  0.193483  0.040028   0.20  0.006517  0.564666\n",
      "2  0.406122  0.051293   0.43  0.023878  0.679216\n",
      "3  0.466346  0.065495   0.45 -0.016346  0.401457\n",
      "4  0.135604  0.040455   0.18  0.044396  0.863771\n"
     ]
    },
    {
     "data": {
      "image/png": "[encoded data removed]",
      "text/plain": [
       "<Figure size 432x288 with 1 Axes>"
      ]
     },
     "metadata": {
      "needs_background": "light"
     },
     "output_type": "display_data"
    }
   ],
   "source": [
    "eval_cdf(test_df)\n",
    "plot_calibration_curve(test_df, iso_reg_inv, r\"Test Calibration Curve - $(\\hat{P}, F_t)$\", swap_xy=True)"
   ]
  },
  {
   "cell_type": "markdown",
   "metadata": {},
   "source": [
    "# Go with Isotonic Regression of $D = \\{(\\hat{P}(F_t(y_t)), F_t(y_t))\\}_{t=1}^T$...\n",
    "(Empirical vs Predicted) because it is easier to adjust the X bounds to truly contain 68% of the data. The other ways is better for identifying what percent of data are truly within the original 68% bounds (e.g. 68% -> 39%). "
   ]
  },
  {
   "cell_type": "code",
   "execution_count": 13,
   "metadata": {},
   "outputs": [
    {
     "data": {
      "text/html": [
       "<div>\n",
       "<style scoped>\n",
       "    .dataframe tbody tr th:only-of-type {\n",
       "        vertical-align: middle;\n",
       "    }\n",
       "\n",
       "    .dataframe tbody tr th {\n",
       "        vertical-align: top;\n",
       "    }\n",
       "\n",
       "    .dataframe thead th {\n",
       "        text-align: right;\n",
       "    }\n",
       "</style>\n",
       "<table border=\"1\" class=\"dataframe\">\n",
       "  <thead>\n",
       "    <tr style=\"text-align: right;\">\n",
       "      <th></th>\n",
       "      <th>y_pred</th>\n",
       "      <th>std</th>\n",
       "      <th>y_act</th>\n",
       "      <th>residual</th>\n",
       "      <th>cdf</th>\n",
       "      <th>lb_y</th>\n",
       "      <th>ub_y</th>\n",
       "    </tr>\n",
       "  </thead>\n",
       "  <tbody>\n",
       "    <tr>\n",
       "      <th>0</th>\n",
       "      <td>0.279991</td>\n",
       "      <td>0.036091</td>\n",
       "      <td>0.32</td>\n",
       "      <td>0.040009</td>\n",
       "      <td>0.866185</td>\n",
       "      <td>0.251777</td>\n",
       "      <td>0.316185</td>\n",
       "    </tr>\n",
       "    <tr>\n",
       "      <th>1</th>\n",
       "      <td>0.193483</td>\n",
       "      <td>0.040028</td>\n",
       "      <td>0.20</td>\n",
       "      <td>0.006517</td>\n",
       "      <td>0.564666</td>\n",
       "      <td>0.162191</td>\n",
       "      <td>0.233625</td>\n",
       "    </tr>\n",
       "    <tr>\n",
       "      <th>2</th>\n",
       "      <td>0.406122</td>\n",
       "      <td>0.051293</td>\n",
       "      <td>0.43</td>\n",
       "      <td>0.023878</td>\n",
       "      <td>0.679216</td>\n",
       "      <td>0.366023</td>\n",
       "      <td>0.457562</td>\n",
       "    </tr>\n",
       "    <tr>\n",
       "      <th>3</th>\n",
       "      <td>0.466346</td>\n",
       "      <td>0.065495</td>\n",
       "      <td>0.45</td>\n",
       "      <td>-0.016346</td>\n",
       "      <td>0.401457</td>\n",
       "      <td>0.415145</td>\n",
       "      <td>0.532028</td>\n",
       "    </tr>\n",
       "    <tr>\n",
       "      <th>4</th>\n",
       "      <td>0.135604</td>\n",
       "      <td>0.040455</td>\n",
       "      <td>0.18</td>\n",
       "      <td>0.044396</td>\n",
       "      <td>0.863771</td>\n",
       "      <td>0.103978</td>\n",
       "      <td>0.176174</td>\n",
       "    </tr>\n",
       "  </tbody>\n",
       "</table>\n",
       "</div>"
      ],
      "text/plain": [
       "     y_pred       std  y_act  residual       cdf      lb_y      ub_y\n",
       "0  0.279991  0.036091   0.32  0.040009  0.866185  0.251777  0.316185\n",
       "1  0.193483  0.040028   0.20  0.006517  0.564666  0.162191  0.233625\n",
       "2  0.406122  0.051293   0.43  0.023878  0.679216  0.366023  0.457562\n",
       "3  0.466346  0.065495   0.45 -0.016346  0.401457  0.415145  0.532028\n",
       "4  0.135604  0.040455   0.18  0.044396  0.863771  0.103978  0.176174"
      ]
     },
     "execution_count": 13,
     "metadata": {},
     "output_type": "execute_result"
    }
   ],
   "source": [
    "lb = 0.16\n",
    "ub = 0.84\n",
    "\n",
    "# Transform the lower and upper bounds to be calibrated\n",
    "lb_transform = iso_reg_inv.transform([lb])[0]\n",
    "ub_transform = iso_reg_inv.transform([ub])[0]\n",
    "\n",
    "# Compute the lower and upper bounds for each prediction given the mean and std\n",
    "test_df[\"lb_y\"] = test_df.apply(lambda x: norm.ppf(lb_transform, x[\"y_pred\"], x[\"std\"]), axis=1)\n",
    "test_df[\"ub_y\"] = test_df.apply(lambda x: norm.ppf(ub_transform, x[\"y_pred\"], x[\"std\"]), axis=1)\n",
    "\n",
    "test_df.head()"
   ]
  },
  {
   "cell_type": "code",
   "execution_count": 14,
   "metadata": {},
   "outputs": [
    {
     "data": {
      "text/html": [
       "<div>\n",
       "<style scoped>\n",
       "    .dataframe tbody tr th:only-of-type {\n",
       "        vertical-align: middle;\n",
       "    }\n",
       "\n",
       "    .dataframe tbody tr th {\n",
       "        vertical-align: top;\n",
       "    }\n",
       "\n",
       "    .dataframe thead th {\n",
       "        text-align: right;\n",
       "    }\n",
       "</style>\n",
       "<table border=\"1\" class=\"dataframe\">\n",
       "  <thead>\n",
       "    <tr style=\"text-align: right;\">\n",
       "      <th></th>\n",
       "      <th>y_pred</th>\n",
       "      <th>std</th>\n",
       "      <th>y_act</th>\n",
       "      <th>residual</th>\n",
       "      <th>cdf</th>\n",
       "      <th>p_hat</th>\n",
       "      <th>lb_y</th>\n",
       "      <th>ub_y</th>\n",
       "    </tr>\n",
       "  </thead>\n",
       "  <tbody>\n",
       "    <tr>\n",
       "      <th>0</th>\n",
       "      <td>0.305364</td>\n",
       "      <td>0.038991</td>\n",
       "      <td>0.32</td>\n",
       "      <td>0.014636</td>\n",
       "      <td>0.646307</td>\n",
       "      <td>0.643532</td>\n",
       "      <td>0.274882</td>\n",
       "      <td>0.344466</td>\n",
       "    </tr>\n",
       "    <tr>\n",
       "      <th>1</th>\n",
       "      <td>0.142781</td>\n",
       "      <td>0.037745</td>\n",
       "      <td>0.20</td>\n",
       "      <td>0.057219</td>\n",
       "      <td>0.935234</td>\n",
       "      <td>0.901911</td>\n",
       "      <td>0.113274</td>\n",
       "      <td>0.180633</td>\n",
       "    </tr>\n",
       "    <tr>\n",
       "      <th>2</th>\n",
       "      <td>0.399767</td>\n",
       "      <td>0.054740</td>\n",
       "      <td>0.43</td>\n",
       "      <td>0.030233</td>\n",
       "      <td>0.709627</td>\n",
       "      <td>0.722035</td>\n",
       "      <td>0.356974</td>\n",
       "      <td>0.454663</td>\n",
       "    </tr>\n",
       "    <tr>\n",
       "      <th>3</th>\n",
       "      <td>0.368695</td>\n",
       "      <td>0.088750</td>\n",
       "      <td>0.45</td>\n",
       "      <td>0.081305</td>\n",
       "      <td>0.820194</td>\n",
       "      <td>0.824207</td>\n",
       "      <td>0.299314</td>\n",
       "      <td>0.457698</td>\n",
       "    </tr>\n",
       "    <tr>\n",
       "      <th>4</th>\n",
       "      <td>0.242631</td>\n",
       "      <td>0.039389</td>\n",
       "      <td>0.18</td>\n",
       "      <td>-0.062631</td>\n",
       "      <td>0.055907</td>\n",
       "      <td>0.081546</td>\n",
       "      <td>0.211839</td>\n",
       "      <td>0.282132</td>\n",
       "    </tr>\n",
       "  </tbody>\n",
       "</table>\n",
       "</div>"
      ],
      "text/plain": [
       "     y_pred       std  y_act  residual       cdf     p_hat      lb_y      ub_y\n",
       "0  0.305364  0.038991   0.32  0.014636  0.646307  0.643532  0.274882  0.344466\n",
       "1  0.142781  0.037745   0.20  0.057219  0.935234  0.901911  0.113274  0.180633\n",
       "2  0.399767  0.054740   0.43  0.030233  0.709627  0.722035  0.356974  0.454663\n",
       "3  0.368695  0.088750   0.45  0.081305  0.820194  0.824207  0.299314  0.457698\n",
       "4  0.242631  0.039389   0.18 -0.062631  0.055907  0.081546  0.211839  0.282132"
      ]
     },
     "execution_count": 14,
     "metadata": {},
     "output_type": "execute_result"
    }
   ],
   "source": [
    "# Compute the lower and upper bounds for each prediction given the mean and std\n",
    "val_df[\"lb_y\"] = val_df.apply(lambda x: norm.ppf(lb_transform, x[\"y_pred\"], x[\"std\"]), axis=1)\n",
    "val_df[\"ub_y\"] = val_df.apply(lambda x: norm.ppf(ub_transform, x[\"y_pred\"], x[\"std\"]), axis=1)\n",
    "\n",
    "val_df.head()"
   ]
  },
  {
   "cell_type": "markdown",
   "metadata": {},
   "source": [
    "### Within the calibrated intervals"
   ]
  },
  {
   "cell_type": "code",
   "execution_count": 15,
   "metadata": {},
   "outputs": [
    {
     "data": {
      "text/plain": [
       "0.6567216479363251"
      ]
     },
     "execution_count": 15,
     "metadata": {},
     "output_type": "execute_result"
    }
   ],
   "source": [
    "# Fraction of true picks that are within the calibrated lower and upper bounds \n",
    "((test_df[\"y_act\"] > test_df[\"lb_y\"]) & (test_df[\"y_act\"] < test_df[\"ub_y\"])).sum()/len(test_df)"
   ]
  },
  {
   "cell_type": "code",
   "execution_count": 16,
   "metadata": {},
   "outputs": [
    {
     "data": {
      "text/plain": [
       "0.6799818550539012"
      ]
     },
     "execution_count": 16,
     "metadata": {},
     "output_type": "execute_result"
    }
   ],
   "source": [
    "((val_df[\"y_act\"] > val_df[\"lb_y\"]) & (val_df[\"y_act\"] < val_df[\"ub_y\"])).sum()/len(val_df)"
   ]
  },
  {
   "cell_type": "markdown",
   "metadata": {},
   "source": [
    "### Within 1 std (uncalibrated)"
   ]
  },
  {
   "cell_type": "code",
   "execution_count": 17,
   "metadata": {},
   "outputs": [
    {
     "data": {
      "text/plain": [
       "0.6866067629464621"
      ]
     },
     "execution_count": 17,
     "metadata": {},
     "output_type": "execute_result"
    }
   ],
   "source": [
    "((test_df[\"y_act\"] > (test_df[\"y_pred\"]-test_df[\"std\"])) & (test_df[\"y_act\"] < (test_df[\"y_pred\"]+test_df[\"std\"]))).sum()/len(test_df)"
   ]
  },
  {
   "cell_type": "code",
   "execution_count": 18,
   "metadata": {},
   "outputs": [
    {
     "data": {
      "text/plain": [
       "0.7084800939267798"
      ]
     },
     "execution_count": 18,
     "metadata": {},
     "output_type": "execute_result"
    }
   ],
   "source": [
    "((val_df[\"y_act\"] > (val_df[\"y_pred\"]-val_df[\"std\"])) & (val_df[\"y_act\"] < (val_df[\"y_pred\"]+val_df[\"std\"]))).sum()/len(val_df)"
   ]
  },
  {
   "cell_type": "code",
   "execution_count": 19,
   "metadata": {},
   "outputs": [
    {
     "data": {
      "text/plain": [
       "['p_dropout_calibration_model_medians_ensemble_IFtrimmed_N40.joblib']"
      ]
     },
     "execution_count": 19,
     "metadata": {},
     "output_type": "execute_result"
    }
   ],
   "source": [
    "from joblib import dump\n",
    "dump(iso_reg_inv, f'p_dropout_calibration_model_medians_ensemble_IFtrimmed_N{N}.joblib') "
   ]
  },
  {
   "cell_type": "code",
   "execution_count": 20,
   "metadata": {},
   "outputs": [
    {
     "name": "stdout",
     "output_type": "stream",
     "text": [
      "calibrated_CI_ensemble_test_fewerhist_N100.csv\r\n",
      "calibrated_regression_p_DR0.3_N100_removeoutliers.ipynb\r\n",
      "calibrated_regression_p_DR0.3_N40_removeoutliers.ipynb\r\n",
      "DropoutRateComparison_N40.ipynb\r\n",
      "ensemble_results_test_IFtrimmed_N100.ipynb\r\n",
      "ensemble_results_test_IFtrimmed_N40.ipynb\r\n",
      "eval_CI_N100.ipynb\r\n",
      "\u001b[0m\u001b[01;32meval_swag_picker_FConly_noise.sh\u001b[0m*\r\n",
      "\u001b[01;32meval_swag_picker_FConly.sh\u001b[0m*\r\n",
      "\u001b[01;32meval_swag_picker.sh\u001b[0m*\r\n",
      "\u001b[01;34mfigures_median_ensemble_IFtrimmed\u001b[0m/\r\n",
      "\u001b[01;34mfigures_median_ensemble_IFtrimmed_N100\u001b[0m/\r\n",
      "\u001b[01;34mfigures_median_ensemble_IFtrimmed_N40\u001b[0m/\r\n",
      "out.eval_dropout_0.01\r\n",
      "out.eval_dropout_0.01_FConly\r\n",
      "out.eval_dropout_0.05\r\n",
      "out.eval_dropout_0.05_FConly\r\n",
      "out.eval_dropout_0.1\r\n",
      "out.eval_dropout_0.1_FConly\r\n",
      "out.eval_dropout_0.2\r\n",
      "out.eval_dropout_0.2_FConly\r\n",
      "out.eval_dropout_0.3\r\n",
      "out.eval_dropout_0.3_FConly\r\n",
      "out.eval_dropout_0.3_FConly_N500\r\n",
      "out.eval_dropout_0.3_FConly_noise\r\n",
      "out.eval_dropout_0.4_FConly\r\n",
      "out.eval_dropout_0.5_FConly\r\n",
      "out.eval_dropout_0.6_FConly\r\n",
      "out.eval_dropout_0.75_FConly\r\n",
      "out.eval_dropout_0.75_FConly_N500\r\n",
      "out.eval_dropout_0.9_FConly\r\n",
      "out.summary\r\n",
      "p_dropout_calibration_model_medians_ensemble_IFtrimmed.joblib\r\n",
      "p_dropout_calibration_model_medians_ensemble_IFtrimmed_N100.joblib\r\n",
      "p_dropout_calibration_model_medians_ensemble_IFtrimmed_N40.joblib\r\n",
      "\u001b[01;34mseed1_128_0.0005_5e-3_0.0002_75_25_20\u001b[0m/\r\n",
      "\u001b[01;34mseed2_128_0.0005_5e-3_0.0002_75_25_20\u001b[0m/\r\n",
      "\u001b[01;34mseed3_128_0.0005_5e-3_0.0002_75_25_20\u001b[0m/\r\n",
      "Select_N.ipynb\r\n"
     ]
    }
   ],
   "source": [
    "ls"
   ]
  },
  {
   "cell_type": "code",
   "execution_count": null,
   "metadata": {},
   "outputs": [],
   "source": []
  }
 ],
 "metadata": {
  "kernelspec": {
   "display_name": "Python 3",
   "language": "python",
   "name": "python3"
  },
  "language_info": {
   "codemirror_mode": {
    "name": "ipython",
    "version": 3
   },
   "file_extension": ".py",
   "mimetype": "text/x-python",
   "name": "python",
   "nbconvert_exporter": "python",
   "pygments_lexer": "ipython3",
   "version": "3.8.5"
  }
 },
 "nbformat": 4,
 "nbformat_minor": 5
}
