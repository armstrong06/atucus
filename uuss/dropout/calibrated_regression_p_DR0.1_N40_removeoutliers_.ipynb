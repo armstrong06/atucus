{
 "cells": [
  {
   "cell_type": "code",
   "execution_count": 1,
   "metadata": {},
   "outputs": [],
   "source": [
    "import pandas as pd\n",
    "import numpy as np\n",
    "import matplotlib.pyplot as plt\n",
    "from scipy.stats import norm \n",
    "from sklearn.isotonic import IsotonicRegression"
   ]
  },
  {
   "cell_type": "code",
   "execution_count": 5,
   "metadata": {},
   "outputs": [],
   "source": [
    "def load_model_results(file_name, N=-1):\n",
    "    file = np.load(file_name)\n",
    "    if N<0:\n",
    "        predictions = file[\"predictions\"][:, :]\n",
    "    else:\n",
    "        predictions = file[\"predictions\"][:, :N]\n",
    "\n",
    "    targets = file[\"targets\"][:, 0]\n",
    "\n",
    "    return predictions, targets\n",
    "\n",
    "def load_ensemble_predictions(dtype, data_path, N, trim=True):\n",
    "    model1_file = f\"seed1_128_0.0005_5e-3_0.0002_75_25_20/eval_checkpoint32_dropout0.1_FConly_N40/dropout_{dtype}_uncertainty_32.npz\"\n",
    "    model2_file = f\"seed2_128_0.0005_5e-3_0.0002_75_25_20/eval_checkpoint29_dropout0.1_FConly_N40/dropout_{dtype}_uncertainty_32.npz\"\n",
    "    model3_file = f\"seed3_128_0.0005_5e-3_0.0002_75_25_20/eval_checkpoint34_dropout0.1_FConly_N40/dropout_{dtype}_uncertainty_32.npz\"\n",
    "\n",
    "    model1_preds, model1_targets = load_model_results(model1_file, N=N)\n",
    "    model2_preds, model2_targets = load_model_results(model2_file, N=N)\n",
    "    model3_preds, model3_targets = load_model_results(model3_file, N=N)\n",
    "    print(model1_preds.shape)\n",
    "    # Join all predictions\n",
    "    ensemble_predictions = np.concatenate([model1_preds, model2_preds, model3_preds], axis=1)\n",
    "    print(ensemble_predictions.shape)\n",
    "    \n",
    "    if trim:\n",
    "        print(\"trimming predictions\")\n",
    "        q1, q3  = np.percentile(ensemble_predictions, [25, 75], axis=1)\n",
    "        iqr = q3 - q1\n",
    "        if1 = q1 - 1.5*iqr\n",
    "        if3 = q3 + 1.5*iqr\n",
    "        ensemble_stds = np.zeros(ensemble_predictions.shape[0])\n",
    "        ensemble_medians = np.zeros(ensemble_predictions.shape[0])\n",
    "        for i in range(len(ensemble_predictions)):\n",
    "            trimmed = ensemble_predictions[i][np.where(np.logical_and(ensemble_predictions[i] > if1[i], \n",
    "                                                                      ensemble_predictions[i] < if3[i]))]\n",
    "            ensemble_stds[i] = np.std(trimmed)\n",
    "            ensemble_medians[i] = np.median(trimmed)\n",
    "    else:\n",
    "        ensemble_medians = np.median(ensemble_predictions, axis=1)\n",
    "        ensemble_stds = np.std(ensemble_predictions, axis=1)\n",
    "        \n",
    "    # Ensure targets are the same for all three models\n",
    "    assert np.array_equal(model1_targets, model2_targets)\n",
    "    assert np.array_equal(model1_targets, model3_targets)\n",
    "    # Calculate residual stats (actual-predicted)\n",
    "    #pick_residuals = model1_targets - ensemble_means\n",
    "    pick_residuals = model1_targets - ensemble_medians\n",
    "    residual_mean = np.mean(pick_residuals)\n",
    "    residual_std = np.std(pick_residuals)\n",
    "\n",
    "    # Combine into a dataframe\n",
    "    #df_data = {\"y_pred\":ensemble_means, \"std\":ensemble_stds, \"y_act\":model1_targets, \"residual\":pick_residuals}\n",
    "    df_data = {\"y_pred\":ensemble_medians, \"std\":ensemble_stds, \"y_act\":model1_targets, \"residual\":pick_residuals}\n",
    "\n",
    "    df = pd.DataFrame(data=df_data)\n",
    "    df.head()\n",
    "\n",
    "    # read in meta_df\n",
    "    if dtype==\"test\":\n",
    "        dtype=\"test_fewerhist\"\n",
    "    meta_df = pd.read_csv(f\"{data_path}/uuss_{dtype}.csv\")\n",
    "\n",
    "    return df, meta_df"
   ]
  },
  {
   "cell_type": "code",
   "execution_count": 6,
   "metadata": {},
   "outputs": [
    {
     "name": "stdout",
     "output_type": "stream",
     "text": [
      "(37476, 40)\n",
      "(37476, 120)\n",
      "trimming predictions\n",
      "(79906, 40)\n",
      "(79906, 120)\n",
      "trimming predictions\n"
     ]
    }
   ],
   "source": [
    "N=40\n",
    "val_df, val_meta_df = load_ensemble_predictions(\"validation\", \"../uuss_data/p_resampled\", N)\n",
    "test_df, test_meta_df = load_ensemble_predictions(\"test_fewerhist\", \"../uuss_data/p_resampled\", N)"
   ]
  },
  {
   "cell_type": "code",
   "execution_count": 7,
   "metadata": {},
   "outputs": [
    {
     "name": "stdout",
     "output_type": "stream",
     "text": [
      "Validation df lengths: 37476 37476\n",
      "Test df lengths: 79906 79906\n",
      "Shared evids between datasets?: False\n"
     ]
    }
   ],
   "source": [
    "print(\"Validation df lengths:\", len(val_df), len(val_meta_df))\n",
    "print(\"Test df lengths:\", len(test_df), len(test_meta_df))\n",
    "print(\"Shared evids between datasets?:\", np.any(np.isin(test_meta_df.evid.unique(), val_meta_df.evid.unique())))"
   ]
  },
  {
   "cell_type": "markdown",
   "metadata": {},
   "source": [
    "# Accurate Uncertainties for Deep Learning Using Calibrated Regression\n",
    "Recalibration dataset $D = \\{ (F_t(y_t) , \\hat{P}(F_t(y_t))) \\}_{t=1}^T$\n",
    "1. Compute $F_t$ = CDF[$N(\\mu_t, \\sigma^2_t)]$ for t $\\in$ [1, T]\n",
    "2. Evalute $F_t(y_t)$ for t $\\in$ [1, T]\n",
    "3. compute $\\hat{P}(p)=\\frac{| \\{y_t | F_t(y_t) \\leq p, t=1...,T \\}|}{T}$, where $p=F_t(y_t)$ for t $\\in$ [1, T]\n",
    "\n",
    "Fit Isotonic Regression model R to D\n",
    "\n",
    "- Fitting regression model to D' = $\\{( \\hat{P}(F_t(y_t)), F_t(y_t)) \\}_{t=1}^T$ seems easier for adjusting the \"standard deviation\" to be calibrated.\n",
    "- When using D, will need to compute the CDF of the Gaussian with predicted $\\mu$ and $\\sigma$, transform with R, and then invert for $x_{lb}$ and $x_{ub}$. Since the CDF has been transformed, norm.ppf can no longer be used to invert. \n",
    "- When using D', can compute the ppf of the gaussian with predicted $\\mu$ and $\\sigma$ and evaluate it at R(lb) and R(ub). \n",
    "- I show below that $x_{lb}$ and $x_{ub}$ computed using the D' method intersect with the transformed CDF computed using D at 0.16 and 0.84. "
   ]
  },
  {
   "cell_type": "markdown",
   "metadata": {},
   "source": [
    "## Fit Predicted vs Empirical Curve $D = \\{ (F_t(y_t) , \\hat{P}(F_t(y_t))) \\}_{t=1}^T$ with Isotonic Regression"
   ]
  },
  {
   "cell_type": "code",
   "execution_count": 8,
   "metadata": {},
   "outputs": [
    {
     "name": "stdout",
     "output_type": "stream",
     "text": [
      "     y_pred       std  y_act  residual       cdf\n",
      "0  0.315696  0.026230   0.32  0.004304  0.565174\n",
      "1  0.144053  0.020237   0.20  0.055947  0.997151\n",
      "2  0.408807  0.026066   0.43  0.021193  0.791903\n",
      "3  0.375705  0.073054   0.45  0.074295  0.845421\n",
      "4  0.243182  0.024261   0.18 -0.063182  0.004603\n"
     ]
    }
   ],
   "source": [
    "# Do steps 1 & 2\n",
    "def eval_cdf(df):\n",
    "    df[\"cdf\"] = df.apply(lambda x: norm.cdf(x[\"y_act\"], x[\"y_pred\"], x[\"std\"]), axis=1)\n",
    "    print(df.head())\n",
    "eval_cdf(val_df)"
   ]
  },
  {
   "cell_type": "code",
   "execution_count": 9,
   "metadata": {},
   "outputs": [
    {
     "data": {
      "image/png": "[encoded data removed]",
      "text/plain": [
       "<Figure size 432x288 with 1 Axes>"
      ]
     },
     "metadata": {
      "needs_background": "light"
     },
     "output_type": "display_data"
    }
   ],
   "source": [
    "# Do step 3\n",
    "def plot_empirical_cdf(df, swap_xy=False):\n",
    "    fig = plt.figure()\n",
    "    plt.plot(np.arange(0, 1.01, 0.1), np.arange(0, 1.01, 0.1), color=\"gray\", linestyle=\"--\", label=\"Perfect Calibration\")\n",
    "    if not swap_xy:\n",
    "        plt.scatter(df.cdf.values, df.p_hat.values, alpha=0.1)\n",
    "        plt.ylabel(\"Empirical Cumulative Distribution\")\n",
    "        plt.xlabel(\"Predicted Cumulative Distribution\")\n",
    "    else:\n",
    "        plt.scatter(df.p_hat.values, df.cdf.values, alpha=0.1)\n",
    "        plt.xlabel(\"Empirical Cumulative Distribution\")\n",
    "        plt.ylabel(\"Predicted Cumulative Distribution\")\n",
    "    plt.title(\"Estimating Cumulative Density of Forecast\")\n",
    "    plt.legend();\n",
    "    plt.show()\n",
    "    \n",
    "def compute_empirical_cdf(df, swap_xy=False):\n",
    "    p_hat = []\n",
    "    T = len(df)\n",
    "    for index, row in df.iterrows():\n",
    "        p = row[\"cdf\"]\n",
    "        p_hat.append((df[\"cdf\"] <= p).sum()/T)\n",
    "    df[\"p_hat\"] = p_hat\n",
    "\n",
    "    plot_empirical_cdf(df, swap_xy)\n",
    "compute_empirical_cdf(val_df)"
   ]
  },
  {
   "cell_type": "code",
   "execution_count": 10,
   "metadata": {},
   "outputs": [],
   "source": [
    "def check_nondecreasing(df):\n",
    "    assert ~np.any(np.diff(df.sort_values(\"cdf\")[\"p_hat\"].values) < 0), \"CDF vs P_Hat is not non-decreasing\"\n",
    "    assert ~np.any(np.diff(df.sort_values(\"p_hat\")[\"cdf\"].values) < 0), \"P_Hat vs CDF is not non-decreasing\"\n",
    "    \n",
    "check_nondecreasing(val_df)"
   ]
  },
  {
   "cell_type": "code",
   "execution_count": 11,
   "metadata": {},
   "outputs": [],
   "source": [
    "def plot_calibration_curve(df, regressor, title, swap_xy=False):\n",
    "    p_hat_cal = []\n",
    "    p_hat_uncal = []\n",
    "    T = len(df)\n",
    "    for p in np.arange(0, 1.05, 0.05):\n",
    "        if swap_xy:\n",
    "            p_hat_cal.append((df.cdf <= regressor.predict([p])[0]).sum()/T)\n",
    "        else:\n",
    "            p_hat_cal.append((regressor.predict(df.cdf) <= p).sum()/T)\n",
    "        \n",
    "        p_hat_uncal.append((df[\"cdf\"] <= p).sum()/T)\n",
    "\n",
    "    plt.plot(np.arange(0, 1.05, 0.05), np.arange(0, 1.05, 0.05), color=\"gray\", linestyle=\"--\")\n",
    "    plt.plot(np.arange(0, 1.05, 0.05), p_hat_cal, marker=\"o\", label=\"calibrated\")\n",
    "    plt.plot(np.arange(0, 1.05, 0.05), p_hat_uncal, marker=\"o\", label=\"uncalibrated\")\n",
    "    plt.legend()\n",
    "    plt.title(title)"
   ]
  },
  {
   "cell_type": "markdown",
   "metadata": {},
   "source": [
    "## Fit Empirical vs Predicted Curve $D=\\{( \\hat{P}(F_t(y_t)), F_t(y_t)) \\}_{t=1}^T$ with Isotonic Regression"
   ]
  },
  {
   "cell_type": "code",
   "execution_count": 12,
   "metadata": {},
   "outputs": [
    {
     "data": {
      "image/png": "[encoded data removed]",
      "text/plain": [
       "<Figure size 432x288 with 1 Axes>"
      ]
     },
     "metadata": {
      "needs_background": "light"
     },
     "output_type": "display_data"
    }
   ],
   "source": [
    "# Inner fence median\n",
    "plot_empirical_cdf(val_df, swap_xy=True)"
   ]
  },
  {
   "cell_type": "code",
   "execution_count": 13,
   "metadata": {},
   "outputs": [
    {
     "data": {
      "image/png": "[encoded data removed]",
      "text/plain": [
       "<Figure size 432x288 with 1 Axes>"
      ]
     },
     "metadata": {
      "needs_background": "light"
     },
     "output_type": "display_data"
    }
   ],
   "source": [
    "# Fit isotonic regression model to Empirical vs Predicted curve. \n",
    "iso_reg_inv = IsotonicRegression().fit(val_df.p_hat.values, val_df.cdf.values)\n",
    "plot_calibration_curve(val_df, iso_reg_inv, r\"Validation Calibration Curve - fit$(\\hat{P}, F_t)$\", swap_xy=True)"
   ]
  },
  {
   "cell_type": "code",
   "execution_count": 14,
   "metadata": {},
   "outputs": [
    {
     "name": "stdout",
     "output_type": "stream",
     "text": [
      "     y_pred       std  y_act  residual       cdf\n",
      "0  0.287414  0.019478   0.32  0.032586  0.952827\n",
      "1  0.197265  0.017643   0.20  0.002735  0.561606\n",
      "2  0.416185  0.023756   0.43  0.013815  0.719562\n",
      "3  0.462235  0.033849   0.45 -0.012235  0.358879\n",
      "4  0.140625  0.020745   0.18  0.039375  0.971153\n"
     ]
    },
    {
     "data": {
      "image/png": "[encoded data removed]",
      "text/plain": [
       "<Figure size 432x288 with 1 Axes>"
      ]
     },
     "metadata": {
      "needs_background": "light"
     },
     "output_type": "display_data"
    }
   ],
   "source": [
    "eval_cdf(test_df)\n",
    "plot_calibration_curve(test_df, iso_reg_inv, r\"Test Calibration Curve - $(\\hat{P}, F_t)$\", swap_xy=True)"
   ]
  },
  {
   "cell_type": "markdown",
   "metadata": {},
   "source": [
    "# Go with Isotonic Regression of $D = \\{(\\hat{P}(F_t(y_t)), F_t(y_t))\\}_{t=1}^T$...\n",
    "(Empirical vs Predicted) because it is easier to adjust the X bounds to truly contain 68% of the data. The other ways is better for identifying what percent of data are truly within the original 68% bounds (e.g. 68% -> 39%). "
   ]
  },
  {
   "cell_type": "code",
   "execution_count": 15,
   "metadata": {},
   "outputs": [
    {
     "data": {
      "text/html": [
       "<div>\n",
       "<style scoped>\n",
       "    .dataframe tbody tr th:only-of-type {\n",
       "        vertical-align: middle;\n",
       "    }\n",
       "\n",
       "    .dataframe tbody tr th {\n",
       "        vertical-align: top;\n",
       "    }\n",
       "\n",
       "    .dataframe thead th {\n",
       "        text-align: right;\n",
       "    }\n",
       "</style>\n",
       "<table border=\"1\" class=\"dataframe\">\n",
       "  <thead>\n",
       "    <tr style=\"text-align: right;\">\n",
       "      <th></th>\n",
       "      <th>y_pred</th>\n",
       "      <th>std</th>\n",
       "      <th>y_act</th>\n",
       "      <th>residual</th>\n",
       "      <th>cdf</th>\n",
       "      <th>lb_y</th>\n",
       "      <th>ub_y</th>\n",
       "    </tr>\n",
       "  </thead>\n",
       "  <tbody>\n",
       "    <tr>\n",
       "      <th>0</th>\n",
       "      <td>0.287414</td>\n",
       "      <td>0.019478</td>\n",
       "      <td>0.32</td>\n",
       "      <td>0.032586</td>\n",
       "      <td>0.952827</td>\n",
       "      <td>0.259105</td>\n",
       "      <td>0.320902</td>\n",
       "    </tr>\n",
       "    <tr>\n",
       "      <th>1</th>\n",
       "      <td>0.197265</td>\n",
       "      <td>0.017643</td>\n",
       "      <td>0.20</td>\n",
       "      <td>0.002735</td>\n",
       "      <td>0.561606</td>\n",
       "      <td>0.171622</td>\n",
       "      <td>0.227597</td>\n",
       "    </tr>\n",
       "    <tr>\n",
       "      <th>2</th>\n",
       "      <td>0.416185</td>\n",
       "      <td>0.023756</td>\n",
       "      <td>0.43</td>\n",
       "      <td>0.013815</td>\n",
       "      <td>0.719562</td>\n",
       "      <td>0.381659</td>\n",
       "      <td>0.457027</td>\n",
       "    </tr>\n",
       "    <tr>\n",
       "      <th>3</th>\n",
       "      <td>0.462235</td>\n",
       "      <td>0.033849</td>\n",
       "      <td>0.45</td>\n",
       "      <td>-0.012235</td>\n",
       "      <td>0.358879</td>\n",
       "      <td>0.413039</td>\n",
       "      <td>0.520429</td>\n",
       "    </tr>\n",
       "    <tr>\n",
       "      <th>4</th>\n",
       "      <td>0.140625</td>\n",
       "      <td>0.020745</td>\n",
       "      <td>0.18</td>\n",
       "      <td>0.039375</td>\n",
       "      <td>0.971153</td>\n",
       "      <td>0.110474</td>\n",
       "      <td>0.176291</td>\n",
       "    </tr>\n",
       "  </tbody>\n",
       "</table>\n",
       "</div>"
      ],
      "text/plain": [
       "     y_pred       std  y_act  residual       cdf      lb_y      ub_y\n",
       "0  0.287414  0.019478   0.32  0.032586  0.952827  0.259105  0.320902\n",
       "1  0.197265  0.017643   0.20  0.002735  0.561606  0.171622  0.227597\n",
       "2  0.416185  0.023756   0.43  0.013815  0.719562  0.381659  0.457027\n",
       "3  0.462235  0.033849   0.45 -0.012235  0.358879  0.413039  0.520429\n",
       "4  0.140625  0.020745   0.18  0.039375  0.971153  0.110474  0.176291"
      ]
     },
     "execution_count": 15,
     "metadata": {},
     "output_type": "execute_result"
    }
   ],
   "source": [
    "lb = 0.16\n",
    "ub = 0.84\n",
    "\n",
    "# Transform the lower and upper bounds to be calibrated\n",
    "lb_transform = iso_reg_inv.transform([lb])[0]\n",
    "ub_transform = iso_reg_inv.transform([ub])[0]\n",
    "\n",
    "# Compute the lower and upper bounds for each prediction given the mean and std\n",
    "test_df[\"lb_y\"] = test_df.apply(lambda x: norm.ppf(lb_transform, x[\"y_pred\"], x[\"std\"]), axis=1)\n",
    "test_df[\"ub_y\"] = test_df.apply(lambda x: norm.ppf(ub_transform, x[\"y_pred\"], x[\"std\"]), axis=1)\n",
    "\n",
    "test_df.head()"
   ]
  },
  {
   "cell_type": "code",
   "execution_count": 16,
   "metadata": {},
   "outputs": [
    {
     "data": {
      "text/html": [
       "<div>\n",
       "<style scoped>\n",
       "    .dataframe tbody tr th:only-of-type {\n",
       "        vertical-align: middle;\n",
       "    }\n",
       "\n",
       "    .dataframe tbody tr th {\n",
       "        vertical-align: top;\n",
       "    }\n",
       "\n",
       "    .dataframe thead th {\n",
       "        text-align: right;\n",
       "    }\n",
       "</style>\n",
       "<table border=\"1\" class=\"dataframe\">\n",
       "  <thead>\n",
       "    <tr style=\"text-align: right;\">\n",
       "      <th></th>\n",
       "      <th>y_pred</th>\n",
       "      <th>std</th>\n",
       "      <th>y_act</th>\n",
       "      <th>residual</th>\n",
       "      <th>cdf</th>\n",
       "      <th>p_hat</th>\n",
       "      <th>lb_y</th>\n",
       "      <th>ub_y</th>\n",
       "    </tr>\n",
       "  </thead>\n",
       "  <tbody>\n",
       "    <tr>\n",
       "      <th>0</th>\n",
       "      <td>0.315696</td>\n",
       "      <td>0.026230</td>\n",
       "      <td>0.32</td>\n",
       "      <td>0.004304</td>\n",
       "      <td>0.565174</td>\n",
       "      <td>0.494183</td>\n",
       "      <td>0.277574</td>\n",
       "      <td>0.360790</td>\n",
       "    </tr>\n",
       "    <tr>\n",
       "      <th>1</th>\n",
       "      <td>0.144053</td>\n",
       "      <td>0.020237</td>\n",
       "      <td>0.20</td>\n",
       "      <td>0.055947</td>\n",
       "      <td>0.997151</td>\n",
       "      <td>0.909862</td>\n",
       "      <td>0.114641</td>\n",
       "      <td>0.178844</td>\n",
       "    </tr>\n",
       "    <tr>\n",
       "      <th>2</th>\n",
       "      <td>0.408807</td>\n",
       "      <td>0.026066</td>\n",
       "      <td>0.43</td>\n",
       "      <td>0.021193</td>\n",
       "      <td>0.791903</td>\n",
       "      <td>0.694204</td>\n",
       "      <td>0.370923</td>\n",
       "      <td>0.453621</td>\n",
       "    </tr>\n",
       "    <tr>\n",
       "      <th>3</th>\n",
       "      <td>0.375705</td>\n",
       "      <td>0.073054</td>\n",
       "      <td>0.45</td>\n",
       "      <td>0.074295</td>\n",
       "      <td>0.845421</td>\n",
       "      <td>0.740901</td>\n",
       "      <td>0.269529</td>\n",
       "      <td>0.501302</td>\n",
       "    </tr>\n",
       "    <tr>\n",
       "      <th>4</th>\n",
       "      <td>0.243182</td>\n",
       "      <td>0.024261</td>\n",
       "      <td>0.18</td>\n",
       "      <td>-0.063182</td>\n",
       "      <td>0.004603</td>\n",
       "      <td>0.090938</td>\n",
       "      <td>0.207922</td>\n",
       "      <td>0.284892</td>\n",
       "    </tr>\n",
       "  </tbody>\n",
       "</table>\n",
       "</div>"
      ],
      "text/plain": [
       "     y_pred       std  y_act  residual       cdf     p_hat      lb_y      ub_y\n",
       "0  0.315696  0.026230   0.32  0.004304  0.565174  0.494183  0.277574  0.360790\n",
       "1  0.144053  0.020237   0.20  0.055947  0.997151  0.909862  0.114641  0.178844\n",
       "2  0.408807  0.026066   0.43  0.021193  0.791903  0.694204  0.370923  0.453621\n",
       "3  0.375705  0.073054   0.45  0.074295  0.845421  0.740901  0.269529  0.501302\n",
       "4  0.243182  0.024261   0.18 -0.063182  0.004603  0.090938  0.207922  0.284892"
      ]
     },
     "execution_count": 16,
     "metadata": {},
     "output_type": "execute_result"
    }
   ],
   "source": [
    "# Compute the lower and upper bounds for each prediction given the mean and std\n",
    "val_df[\"lb_y\"] = val_df.apply(lambda x: norm.ppf(lb_transform, x[\"y_pred\"], x[\"std\"]), axis=1)\n",
    "val_df[\"ub_y\"] = val_df.apply(lambda x: norm.ppf(ub_transform, x[\"y_pred\"], x[\"std\"]), axis=1)\n",
    "\n",
    "val_df.head()"
   ]
  },
  {
   "cell_type": "markdown",
   "metadata": {},
   "source": [
    "### Within the calibrated intervals"
   ]
  },
  {
   "cell_type": "code",
   "execution_count": 17,
   "metadata": {},
   "outputs": [
    {
     "data": {
      "text/plain": [
       "0.6554826921632919"
      ]
     },
     "execution_count": 17,
     "metadata": {},
     "output_type": "execute_result"
    }
   ],
   "source": [
    "# Fraction of true picks that are within the calibrated lower and upper bounds \n",
    "((test_df[\"y_act\"] > test_df[\"lb_y\"]) & (test_df[\"y_act\"] < test_df[\"ub_y\"])).sum()/len(test_df)"
   ]
  },
  {
   "cell_type": "code",
   "execution_count": 18,
   "metadata": {},
   "outputs": [
    {
     "data": {
      "text/plain": [
       "0.6799818550539012"
      ]
     },
     "execution_count": 18,
     "metadata": {},
     "output_type": "execute_result"
    }
   ],
   "source": [
    "((val_df[\"y_act\"] > val_df[\"lb_y\"]) & (val_df[\"y_act\"] < val_df[\"ub_y\"])).sum()/len(val_df)"
   ]
  },
  {
   "cell_type": "markdown",
   "metadata": {},
   "source": [
    "### Within 1 std (uncalibrated)"
   ]
  },
  {
   "cell_type": "code",
   "execution_count": 19,
   "metadata": {},
   "outputs": [
    {
     "data": {
      "text/plain": [
       "0.5037919555477687"
      ]
     },
     "execution_count": 19,
     "metadata": {},
     "output_type": "execute_result"
    }
   ],
   "source": [
    "((test_df[\"y_act\"] > (test_df[\"y_pred\"]-test_df[\"std\"])) & (test_df[\"y_act\"] < (test_df[\"y_pred\"]+test_df[\"std\"]))).sum()/len(test_df)"
   ]
  },
  {
   "cell_type": "code",
   "execution_count": 20,
   "metadata": {},
   "outputs": [
    {
     "data": {
      "text/plain": [
       "0.526790479240047"
      ]
     },
     "execution_count": 20,
     "metadata": {},
     "output_type": "execute_result"
    }
   ],
   "source": [
    "((val_df[\"y_act\"] > (val_df[\"y_pred\"]-val_df[\"std\"])) & (val_df[\"y_act\"] < (val_df[\"y_pred\"]+val_df[\"std\"]))).sum()/len(val_df)"
   ]
  },
  {
   "cell_type": "code",
   "execution_count": 21,
   "metadata": {},
   "outputs": [
    {
     "data": {
      "text/plain": [
       "['p_dropout_calibration_model_medians_ensemble_IFtrimmed_N40_DR0.1.joblib']"
      ]
     },
     "execution_count": 21,
     "metadata": {},
     "output_type": "execute_result"
    }
   ],
   "source": [
    "from joblib import dump\n",
    "dump(iso_reg_inv, 'p_dropout_calibration_model_medians_ensemble_IFtrimmed_N40_DR0.1.joblib') "
   ]
  },
  {
   "cell_type": "code",
   "execution_count": null,
   "metadata": {},
   "outputs": [],
   "source": []
  }
 ],
 "metadata": {
  "kernelspec": {
   "display_name": "Python 3",
   "language": "python",
   "name": "python3"
  },
  "language_info": {
   "codemirror_mode": {
    "name": "ipython",
    "version": 3
   },
   "file_extension": ".py",
   "mimetype": "text/x-python",
   "name": "python",
   "nbconvert_exporter": "python",
   "pygments_lexer": "ipython3",
   "version": "3.8.5"
  }
 },
 "nbformat": 4,
 "nbformat_minor": 5
}
