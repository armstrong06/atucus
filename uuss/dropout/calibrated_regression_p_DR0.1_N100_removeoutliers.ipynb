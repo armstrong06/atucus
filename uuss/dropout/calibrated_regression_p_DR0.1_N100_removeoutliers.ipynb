{
 "cells": [
  {
   "cell_type": "code",
   "execution_count": 1,
   "metadata": {},
   "outputs": [],
   "source": [
    "import pandas as pd\n",
    "import numpy as np\n",
    "import matplotlib.pyplot as plt\n",
    "from scipy.stats import norm \n",
    "from sklearn.isotonic import IsotonicRegression"
   ]
  },
  {
   "cell_type": "code",
   "execution_count": 2,
   "metadata": {},
   "outputs": [],
   "source": [
    "def load_model_results(file_name, N=-1):\n",
    "    file = np.load(file_name)\n",
    "    if N<0:\n",
    "        predictions = file[\"predictions\"][:, :]\n",
    "    else:\n",
    "        predictions = file[\"predictions\"][:, :N]\n",
    "\n",
    "    targets = file[\"targets\"][:, 0]\n",
    "\n",
    "    return predictions, targets\n",
    "\n",
    "def load_ensemble_predictions(dtype, data_path, N, trim=True):\n",
    "    model1_file = f\"seed1_128_0.0005_5e-3_0.0002_75_25_20/eval_checkpoint32_dropout0.1_FConly_N500/dropout_{dtype}_uncertainty_32.npz\"\n",
    "    model2_file = f\"seed2_128_0.0005_5e-3_0.0002_75_25_20/eval_checkpoint29_dropout0.1_FConly_N500/dropout_{dtype}_uncertainty_29.npz\"\n",
    "    model3_file = f\"seed3_128_0.0005_5e-3_0.0002_75_25_20/eval_checkpoint34_dropout0.1_FConly_N500/dropout_{dtype}_uncertainty_34.npz\"\n",
    "\n",
    "    model1_preds, model1_targets = load_model_results(model1_file, N=N)\n",
    "    model2_preds, model2_targets = load_model_results(model2_file, N=N)\n",
    "    model3_preds, model3_targets = load_model_results(model3_file, N=N)\n",
    "    print(model1_preds.shape)\n",
    "    # Join all predictions\n",
    "    ensemble_predictions = np.concatenate([model1_preds, model2_preds, model3_preds], axis=1)\n",
    "    print(ensemble_predictions.shape)\n",
    "    \n",
    "    if trim:\n",
    "        print(\"trimming predictions\")\n",
    "        q1, q3  = np.percentile(ensemble_predictions, [25, 75], axis=1)\n",
    "        iqr = q3 - q1\n",
    "        if1 = q1 - 1.5*iqr\n",
    "        if3 = q3 + 1.5*iqr\n",
    "        ensemble_stds = np.zeros(ensemble_predictions.shape[0])\n",
    "        ensemble_medians = np.zeros(ensemble_predictions.shape[0])\n",
    "        for i in range(len(ensemble_predictions)):\n",
    "            trimmed = ensemble_predictions[i][np.where(np.logical_and(ensemble_predictions[i] > if1[i], \n",
    "                                                                      ensemble_predictions[i] < if3[i]))]\n",
    "            ensemble_stds[i] = np.std(trimmed)\n",
    "            ensemble_medians[i] = np.median(trimmed)\n",
    "    else:\n",
    "        ensemble_medians = np.median(ensemble_predictions, axis=1)\n",
    "        ensemble_stds = np.std(ensemble_predictions, axis=1)\n",
    "        \n",
    "    # Ensure targets are the same for all three models\n",
    "    assert np.array_equal(model1_targets, model2_targets)\n",
    "    assert np.array_equal(model1_targets, model3_targets)\n",
    "    # Calculate residual stats (actual-predicted)\n",
    "    #pick_residuals = model1_targets - ensemble_means\n",
    "    pick_residuals = model1_targets - ensemble_medians\n",
    "    residual_mean = np.mean(pick_residuals)\n",
    "    residual_std = np.std(pick_residuals)\n",
    "\n",
    "    # Combine into a dataframe\n",
    "    #df_data = {\"y_pred\":ensemble_means, \"std\":ensemble_stds, \"y_act\":model1_targets, \"residual\":pick_residuals}\n",
    "    df_data = {\"y_pred\":ensemble_medians, \"std\":ensemble_stds, \"y_act\":model1_targets, \"residual\":pick_residuals}\n",
    "\n",
    "    df = pd.DataFrame(data=df_data)\n",
    "    df.head()\n",
    "\n",
    "    # read in meta_df\n",
    "    if dtype==\"test\":\n",
    "        dtype=\"test_fewerhist\"\n",
    "    meta_df = pd.read_csv(f\"{data_path}/uuss_{dtype}.csv\")\n",
    "\n",
    "    return df, meta_df"
   ]
  },
  {
   "cell_type": "code",
   "execution_count": 3,
   "metadata": {},
   "outputs": [
    {
     "name": "stdout",
     "output_type": "stream",
     "text": [
      "(37476, 100)\n",
      "(37476, 300)\n",
      "trimming predictions\n",
      "(79906, 100)\n",
      "(79906, 300)\n",
      "trimming predictions\n"
     ]
    }
   ],
   "source": [
    "N=100\n",
    "val_df, val_meta_df = load_ensemble_predictions(\"validation\", \"../uuss_data/p_resampled\", N)\n",
    "test_df, test_meta_df = load_ensemble_predictions(\"test_fewerhist\", \"../uuss_data/p_resampled\", N)"
   ]
  },
  {
   "cell_type": "code",
   "execution_count": 4,
   "metadata": {},
   "outputs": [
    {
     "name": "stdout",
     "output_type": "stream",
     "text": [
      "Validation df lengths: 37476 37476\n",
      "Test df lengths: 79906 79906\n",
      "Shared evids between datasets?: False\n"
     ]
    }
   ],
   "source": [
    "print(\"Validation df lengths:\", len(val_df), len(val_meta_df))\n",
    "print(\"Test df lengths:\", len(test_df), len(test_meta_df))\n",
    "print(\"Shared evids between datasets?:\", np.any(np.isin(test_meta_df.evid.unique(), val_meta_df.evid.unique())))"
   ]
  },
  {
   "cell_type": "markdown",
   "metadata": {},
   "source": [
    "# Accurate Uncertainties for Deep Learning Using Calibrated Regression\n",
    "Recalibration dataset $D = \\{ (F_t(y_t) , \\hat{P}(F_t(y_t))) \\}_{t=1}^T$\n",
    "1. Compute $F_t$ = CDF[$N(\\mu_t, \\sigma^2_t)]$ for t $\\in$ [1, T]\n",
    "2. Evalute $F_t(y_t)$ for t $\\in$ [1, T]\n",
    "3. compute $\\hat{P}(p)=\\frac{| \\{y_t | F_t(y_t) \\leq p, t=1...,T \\}|}{T}$, where $p=F_t(y_t)$ for t $\\in$ [1, T]\n",
    "\n",
    "Fit Isotonic Regression model R to D\n",
    "\n",
    "- Fitting regression model to D' = $\\{( \\hat{P}(F_t(y_t)), F_t(y_t)) \\}_{t=1}^T$ seems easier for adjusting the \"standard deviation\" to be calibrated.\n",
    "- When using D, will need to compute the CDF of the Gaussian with predicted $\\mu$ and $\\sigma$, transform with R, and then invert for $x_{lb}$ and $x_{ub}$. Since the CDF has been transformed, norm.ppf can no longer be used to invert. \n",
    "- When using D', can compute the ppf of the gaussian with predicted $\\mu$ and $\\sigma$ and evaluate it at R(lb) and R(ub). \n",
    "- I show below that $x_{lb}$ and $x_{ub}$ computed using the D' method intersect with the transformed CDF computed using D at 0.16 and 0.84. "
   ]
  },
  {
   "cell_type": "markdown",
   "metadata": {},
   "source": [
    "## Fit Predicted vs Empirical Curve $D = \\{ (F_t(y_t) , \\hat{P}(F_t(y_t))) \\}_{t=1}^T$ with Isotonic Regression"
   ]
  },
  {
   "cell_type": "code",
   "execution_count": 5,
   "metadata": {},
   "outputs": [
    {
     "name": "stdout",
     "output_type": "stream",
     "text": [
      "     y_pred       std  y_act  residual       cdf\n",
      "0  0.314071  0.025855   0.32  0.005929  0.590684\n",
      "1  0.147671  0.020820   0.20  0.052329  0.994022\n",
      "2  0.407264  0.027725   0.43  0.022736  0.793905\n",
      "3  0.375699  0.069244   0.45  0.074301  0.858373\n",
      "4  0.245538  0.025843   0.18 -0.065538  0.005607\n"
     ]
    }
   ],
   "source": [
    "# Do steps 1 & 2\n",
    "def eval_cdf(df):\n",
    "    df[\"cdf\"] = df.apply(lambda x: norm.cdf(x[\"y_act\"], x[\"y_pred\"], x[\"std\"]), axis=1)\n",
    "    print(df.head())\n",
    "eval_cdf(val_df)"
   ]
  },
  {
   "cell_type": "code",
   "execution_count": 6,
   "metadata": {},
   "outputs": [
    {
     "data": {
      "image/png": "[encoded data removed]",
      "text/plain": [
       "<Figure size 432x288 with 1 Axes>"
      ]
     },
     "metadata": {
      "needs_background": "light"
     },
     "output_type": "display_data"
    }
   ],
   "source": [
    "# Do step 3\n",
    "def plot_empirical_cdf(df, swap_xy=False):\n",
    "    fig = plt.figure()\n",
    "    plt.plot(np.arange(0, 1.01, 0.1), np.arange(0, 1.01, 0.1), color=\"gray\", linestyle=\"--\", label=\"Perfect Calibration\")\n",
    "    if not swap_xy:\n",
    "        plt.scatter(df.cdf.values, df.p_hat.values, alpha=0.1)\n",
    "        plt.ylabel(\"Empirical Cumulative Distribution\")\n",
    "        plt.xlabel(\"Predicted Cumulative Distribution\")\n",
    "    else:\n",
    "        plt.scatter(df.p_hat.values, df.cdf.values, alpha=0.1)\n",
    "        plt.xlabel(\"Empirical Cumulative Distribution\")\n",
    "        plt.ylabel(\"Predicted Cumulative Distribution\")\n",
    "    plt.title(\"Estimating Cumulative Density of Forecast\")\n",
    "    plt.legend();\n",
    "    plt.show()\n",
    "    \n",
    "def compute_empirical_cdf(df, swap_xy=False):\n",
    "    p_hat = []\n",
    "    T = len(df)\n",
    "    for index, row in df.iterrows():\n",
    "        p = row[\"cdf\"]\n",
    "        p_hat.append((df[\"cdf\"] <= p).sum()/T)\n",
    "    df[\"p_hat\"] = p_hat\n",
    "\n",
    "    plot_empirical_cdf(df, swap_xy)\n",
    "compute_empirical_cdf(val_df)"
   ]
  },
  {
   "cell_type": "code",
   "execution_count": 7,
   "metadata": {},
   "outputs": [],
   "source": [
    "def check_nondecreasing(df):\n",
    "    assert ~np.any(np.diff(df.sort_values(\"cdf\")[\"p_hat\"].values) < 0), \"CDF vs P_Hat is not non-decreasing\"\n",
    "    assert ~np.any(np.diff(df.sort_values(\"p_hat\")[\"cdf\"].values) < 0), \"P_Hat vs CDF is not non-decreasing\"\n",
    "    \n",
    "check_nondecreasing(val_df)"
   ]
  },
  {
   "cell_type": "code",
   "execution_count": 8,
   "metadata": {},
   "outputs": [],
   "source": [
    "def plot_calibration_curve(df, regressor, title, swap_xy=False):\n",
    "    p_hat_cal = []\n",
    "    p_hat_uncal = []\n",
    "    T = len(df)\n",
    "    for p in np.arange(0, 1.05, 0.05):\n",
    "        if swap_xy:\n",
    "            p_hat_cal.append((df.cdf <= regressor.predict([p])[0]).sum()/T)\n",
    "        else:\n",
    "            p_hat_cal.append((regressor.predict(df.cdf) <= p).sum()/T)\n",
    "        \n",
    "        p_hat_uncal.append((df[\"cdf\"] <= p).sum()/T)\n",
    "\n",
    "    plt.plot(np.arange(0, 1.05, 0.05), np.arange(0, 1.05, 0.05), color=\"gray\", linestyle=\"--\")\n",
    "    plt.plot(np.arange(0, 1.05, 0.05), p_hat_cal, marker=\"o\", label=\"calibrated\")\n",
    "    plt.plot(np.arange(0, 1.05, 0.05), p_hat_uncal, marker=\"o\", label=\"uncalibrated\")\n",
    "    plt.legend()\n",
    "    plt.title(title)"
   ]
  },
  {
   "cell_type": "markdown",
   "metadata": {},
   "source": [
    "## Fit Empirical vs Predicted Curve $D=\\{( \\hat{P}(F_t(y_t)), F_t(y_t)) \\}_{t=1}^T$ with Isotonic Regression"
   ]
  },
  {
   "cell_type": "code",
   "execution_count": 9,
   "metadata": {},
   "outputs": [
    {
     "data": {
      "image/png": "[encoded data removed]",
      "text/plain": [
       "<Figure size 432x288 with 1 Axes>"
      ]
     },
     "metadata": {
      "needs_background": "light"
     },
     "output_type": "display_data"
    }
   ],
   "source": [
    "# Inner fence median\n",
    "plot_empirical_cdf(val_df, swap_xy=True)"
   ]
  },
  {
   "cell_type": "code",
   "execution_count": 10,
   "metadata": {},
   "outputs": [
    {
     "data": {
      "image/png": "[encoded data removed]",
      "text/plain": [
       "<Figure size 432x288 with 1 Axes>"
      ]
     },
     "metadata": {
      "needs_background": "light"
     },
     "output_type": "display_data"
    }
   ],
   "source": [
    "# Fit isotonic regression model to Empirical vs Predicted curve. \n",
    "iso_reg_inv = IsotonicRegression().fit(val_df.p_hat.values, val_df.cdf.values)\n",
    "plot_calibration_curve(val_df, iso_reg_inv, r\"Validation Calibration Curve - fit$(\\hat{P}, F_t)$\", swap_xy=True)"
   ]
  },
  {
   "cell_type": "code",
   "execution_count": 11,
   "metadata": {},
   "outputs": [
    {
     "name": "stdout",
     "output_type": "stream",
     "text": [
      "     y_pred       std  y_act  residual       cdf\n",
      "0  0.290099  0.019955   0.32  0.029901  0.932991\n",
      "1  0.199773  0.017521   0.20  0.000227  0.505165\n",
      "2  0.412296  0.027626   0.43  0.017704  0.739181\n",
      "3  0.463949  0.033946   0.45 -0.013949  0.340563\n",
      "4  0.139343  0.019058   0.18  0.040657  0.983550\n"
     ]
    },
    {
     "data": {
      "image/png": "[encoded data removed]",
      "text/plain": [
       "<Figure size 432x288 with 1 Axes>"
      ]
     },
     "metadata": {
      "needs_background": "light"
     },
     "output_type": "display_data"
    }
   ],
   "source": [
    "eval_cdf(test_df)\n",
    "plot_calibration_curve(test_df, iso_reg_inv, r\"Test Calibration Curve - $(\\hat{P}, F_t)$\", swap_xy=True)"
   ]
  },
  {
   "cell_type": "markdown",
   "metadata": {},
   "source": [
    "# Go with Isotonic Regression of $D = \\{(\\hat{P}(F_t(y_t)), F_t(y_t))\\}_{t=1}^T$...\n",
    "(Empirical vs Predicted) because it is easier to adjust the X bounds to truly contain 68% of the data. The other ways is better for identifying what percent of data are truly within the original 68% bounds (e.g. 68% -> 39%). "
   ]
  },
  {
   "cell_type": "code",
   "execution_count": 12,
   "metadata": {},
   "outputs": [
    {
     "data": {
      "text/html": [
       "<div>\n",
       "<style scoped>\n",
       "    .dataframe tbody tr th:only-of-type {\n",
       "        vertical-align: middle;\n",
       "    }\n",
       "\n",
       "    .dataframe tbody tr th {\n",
       "        vertical-align: top;\n",
       "    }\n",
       "\n",
       "    .dataframe thead th {\n",
       "        text-align: right;\n",
       "    }\n",
       "</style>\n",
       "<table border=\"1\" class=\"dataframe\">\n",
       "  <thead>\n",
       "    <tr style=\"text-align: right;\">\n",
       "      <th></th>\n",
       "      <th>y_pred</th>\n",
       "      <th>std</th>\n",
       "      <th>y_act</th>\n",
       "      <th>residual</th>\n",
       "      <th>cdf</th>\n",
       "      <th>lb_y</th>\n",
       "      <th>ub_y</th>\n",
       "    </tr>\n",
       "  </thead>\n",
       "  <tbody>\n",
       "    <tr>\n",
       "      <th>0</th>\n",
       "      <td>0.290099</td>\n",
       "      <td>0.019955</td>\n",
       "      <td>0.32</td>\n",
       "      <td>0.029901</td>\n",
       "      <td>0.932991</td>\n",
       "      <td>0.261223</td>\n",
       "      <td>0.324279</td>\n",
       "    </tr>\n",
       "    <tr>\n",
       "      <th>1</th>\n",
       "      <td>0.199773</td>\n",
       "      <td>0.017521</td>\n",
       "      <td>0.20</td>\n",
       "      <td>0.000227</td>\n",
       "      <td>0.505165</td>\n",
       "      <td>0.174418</td>\n",
       "      <td>0.229786</td>\n",
       "    </tr>\n",
       "    <tr>\n",
       "      <th>2</th>\n",
       "      <td>0.412296</td>\n",
       "      <td>0.027626</td>\n",
       "      <td>0.43</td>\n",
       "      <td>0.017704</td>\n",
       "      <td>0.739181</td>\n",
       "      <td>0.372319</td>\n",
       "      <td>0.459618</td>\n",
       "    </tr>\n",
       "    <tr>\n",
       "      <th>3</th>\n",
       "      <td>0.463949</td>\n",
       "      <td>0.033946</td>\n",
       "      <td>0.45</td>\n",
       "      <td>-0.013949</td>\n",
       "      <td>0.340563</td>\n",
       "      <td>0.414828</td>\n",
       "      <td>0.522095</td>\n",
       "    </tr>\n",
       "    <tr>\n",
       "      <th>4</th>\n",
       "      <td>0.139343</td>\n",
       "      <td>0.019058</td>\n",
       "      <td>0.18</td>\n",
       "      <td>0.040657</td>\n",
       "      <td>0.983550</td>\n",
       "      <td>0.111764</td>\n",
       "      <td>0.171988</td>\n",
       "    </tr>\n",
       "  </tbody>\n",
       "</table>\n",
       "</div>"
      ],
      "text/plain": [
       "     y_pred       std  y_act  residual       cdf      lb_y      ub_y\n",
       "0  0.290099  0.019955   0.32  0.029901  0.932991  0.261223  0.324279\n",
       "1  0.199773  0.017521   0.20  0.000227  0.505165  0.174418  0.229786\n",
       "2  0.412296  0.027626   0.43  0.017704  0.739181  0.372319  0.459618\n",
       "3  0.463949  0.033946   0.45 -0.013949  0.340563  0.414828  0.522095\n",
       "4  0.139343  0.019058   0.18  0.040657  0.983550  0.111764  0.171988"
      ]
     },
     "execution_count": 12,
     "metadata": {},
     "output_type": "execute_result"
    }
   ],
   "source": [
    "lb = 0.16\n",
    "ub = 0.84\n",
    "\n",
    "# Transform the lower and upper bounds to be calibrated\n",
    "lb_transform = iso_reg_inv.transform([lb])[0]\n",
    "ub_transform = iso_reg_inv.transform([ub])[0]\n",
    "\n",
    "# Compute the lower and upper bounds for each prediction given the mean and std\n",
    "test_df[\"lb_y\"] = test_df.apply(lambda x: norm.ppf(lb_transform, x[\"y_pred\"], x[\"std\"]), axis=1)\n",
    "test_df[\"ub_y\"] = test_df.apply(lambda x: norm.ppf(ub_transform, x[\"y_pred\"], x[\"std\"]), axis=1)\n",
    "\n",
    "test_df.head()"
   ]
  },
  {
   "cell_type": "code",
   "execution_count": 13,
   "metadata": {},
   "outputs": [
    {
     "data": {
      "text/html": [
       "<div>\n",
       "<style scoped>\n",
       "    .dataframe tbody tr th:only-of-type {\n",
       "        vertical-align: middle;\n",
       "    }\n",
       "\n",
       "    .dataframe tbody tr th {\n",
       "        vertical-align: top;\n",
       "    }\n",
       "\n",
       "    .dataframe thead th {\n",
       "        text-align: right;\n",
       "    }\n",
       "</style>\n",
       "<table border=\"1\" class=\"dataframe\">\n",
       "  <thead>\n",
       "    <tr style=\"text-align: right;\">\n",
       "      <th></th>\n",
       "      <th>y_pred</th>\n",
       "      <th>std</th>\n",
       "      <th>y_act</th>\n",
       "      <th>residual</th>\n",
       "      <th>cdf</th>\n",
       "      <th>p_hat</th>\n",
       "      <th>lb_y</th>\n",
       "      <th>ub_y</th>\n",
       "    </tr>\n",
       "  </thead>\n",
       "  <tbody>\n",
       "    <tr>\n",
       "      <th>0</th>\n",
       "      <td>0.314071</td>\n",
       "      <td>0.025855</td>\n",
       "      <td>0.32</td>\n",
       "      <td>0.005929</td>\n",
       "      <td>0.590684</td>\n",
       "      <td>0.516837</td>\n",
       "      <td>0.276658</td>\n",
       "      <td>0.358358</td>\n",
       "    </tr>\n",
       "    <tr>\n",
       "      <th>1</th>\n",
       "      <td>0.147671</td>\n",
       "      <td>0.020820</td>\n",
       "      <td>0.20</td>\n",
       "      <td>0.052329</td>\n",
       "      <td>0.994022</td>\n",
       "      <td>0.898575</td>\n",
       "      <td>0.117543</td>\n",
       "      <td>0.183333</td>\n",
       "    </tr>\n",
       "    <tr>\n",
       "      <th>2</th>\n",
       "      <td>0.407264</td>\n",
       "      <td>0.027725</td>\n",
       "      <td>0.43</td>\n",
       "      <td>0.022736</td>\n",
       "      <td>0.793905</td>\n",
       "      <td>0.700181</td>\n",
       "      <td>0.367144</td>\n",
       "      <td>0.454755</td>\n",
       "    </tr>\n",
       "    <tr>\n",
       "      <th>3</th>\n",
       "      <td>0.375699</td>\n",
       "      <td>0.069244</td>\n",
       "      <td>0.45</td>\n",
       "      <td>0.074301</td>\n",
       "      <td>0.858373</td>\n",
       "      <td>0.752828</td>\n",
       "      <td>0.275498</td>\n",
       "      <td>0.494307</td>\n",
       "    </tr>\n",
       "    <tr>\n",
       "      <th>4</th>\n",
       "      <td>0.245538</td>\n",
       "      <td>0.025843</td>\n",
       "      <td>0.18</td>\n",
       "      <td>-0.065538</td>\n",
       "      <td>0.005607</td>\n",
       "      <td>0.093527</td>\n",
       "      <td>0.208141</td>\n",
       "      <td>0.289806</td>\n",
       "    </tr>\n",
       "  </tbody>\n",
       "</table>\n",
       "</div>"
      ],
      "text/plain": [
       "     y_pred       std  y_act  residual       cdf     p_hat      lb_y      ub_y\n",
       "0  0.314071  0.025855   0.32  0.005929  0.590684  0.516837  0.276658  0.358358\n",
       "1  0.147671  0.020820   0.20  0.052329  0.994022  0.898575  0.117543  0.183333\n",
       "2  0.407264  0.027725   0.43  0.022736  0.793905  0.700181  0.367144  0.454755\n",
       "3  0.375699  0.069244   0.45  0.074301  0.858373  0.752828  0.275498  0.494307\n",
       "4  0.245538  0.025843   0.18 -0.065538  0.005607  0.093527  0.208141  0.289806"
      ]
     },
     "execution_count": 13,
     "metadata": {},
     "output_type": "execute_result"
    }
   ],
   "source": [
    "# Compute the lower and upper bounds for each prediction given the mean and std\n",
    "val_df[\"lb_y\"] = val_df.apply(lambda x: norm.ppf(lb_transform, x[\"y_pred\"], x[\"std\"]), axis=1)\n",
    "val_df[\"ub_y\"] = val_df.apply(lambda x: norm.ppf(ub_transform, x[\"y_pred\"], x[\"std\"]), axis=1)\n",
    "\n",
    "val_df.head()"
   ]
  },
  {
   "cell_type": "markdown",
   "metadata": {},
   "source": [
    "### Within the calibrated intervals"
   ]
  },
  {
   "cell_type": "code",
   "execution_count": 14,
   "metadata": {},
   "outputs": [
    {
     "data": {
      "text/plain": [
       "0.6556954421445198"
      ]
     },
     "execution_count": 14,
     "metadata": {},
     "output_type": "execute_result"
    }
   ],
   "source": [
    "# Fraction of true picks that are within the calibrated lower and upper bounds \n",
    "((test_df[\"y_act\"] > test_df[\"lb_y\"]) & (test_df[\"y_act\"] < test_df[\"ub_y\"])).sum()/len(test_df)"
   ]
  },
  {
   "cell_type": "code",
   "execution_count": 15,
   "metadata": {},
   "outputs": [
    {
     "data": {
      "text/plain": [
       "0.6799818550539012"
      ]
     },
     "execution_count": 15,
     "metadata": {},
     "output_type": "execute_result"
    }
   ],
   "source": [
    "((val_df[\"y_act\"] > val_df[\"lb_y\"]) & (val_df[\"y_act\"] < val_df[\"ub_y\"])).sum()/len(val_df)"
   ]
  },
  {
   "cell_type": "markdown",
   "metadata": {},
   "source": [
    "### Within 1 std (uncalibrated)"
   ]
  },
  {
   "cell_type": "code",
   "execution_count": 16,
   "metadata": {},
   "outputs": [
    {
     "data": {
      "text/plain": [
       "0.5075338522764248"
      ]
     },
     "execution_count": 16,
     "metadata": {},
     "output_type": "execute_result"
    }
   ],
   "source": [
    "((test_df[\"y_act\"] > (test_df[\"y_pred\"]-test_df[\"std\"])) & (test_df[\"y_act\"] < (test_df[\"y_pred\"]+test_df[\"std\"]))).sum()/len(test_df)"
   ]
  },
  {
   "cell_type": "code",
   "execution_count": 20,
   "metadata": {},
   "outputs": [
    {
     "data": {
      "text/plain": [
       "0.526790479240047"
      ]
     },
     "execution_count": 20,
     "metadata": {},
     "output_type": "execute_result"
    }
   ],
   "source": [
    "((val_df[\"y_act\"] > (val_df[\"y_pred\"]-val_df[\"std\"])) & (val_df[\"y_act\"] < (val_df[\"y_pred\"]+val_df[\"std\"]))).sum()/len(val_df)"
   ]
  },
  {
   "cell_type": "code",
   "execution_count": 17,
   "metadata": {},
   "outputs": [
    {
     "data": {
      "text/plain": [
       "['p_dropout_calibration_model_medians_ensemble_IFtrimmed_N100_DR0.1.joblib']"
      ]
     },
     "execution_count": 17,
     "metadata": {},
     "output_type": "execute_result"
    }
   ],
   "source": [
    "from joblib import dump\n",
    "dump(iso_reg_inv, 'p_dropout_calibration_model_medians_ensemble_IFtrimmed_N100_DR0.1.joblib') "
   ]
  },
  {
   "cell_type": "code",
   "execution_count": null,
   "metadata": {},
   "outputs": [],
   "source": []
  }
 ],
 "metadata": {
  "kernelspec": {
   "display_name": "Python 3",
   "language": "python",
   "name": "python3"
  },
  "language_info": {
   "codemirror_mode": {
    "name": "ipython",
    "version": 3
   },
   "file_extension": ".py",
   "mimetype": "text/x-python",
   "name": "python",
   "nbconvert_exporter": "python",
   "pygments_lexer": "ipython3",
   "version": "3.8.5"
  }
 },
 "nbformat": 4,
 "nbformat_minor": 5
}
