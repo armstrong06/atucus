{
 "cells": [
  {
   "cell_type": "code",
   "execution_count": 1,
   "metadata": {},
   "outputs": [],
   "source": [
    "import h5py\n",
    "import numpy as np"
   ]
  },
  {
   "cell_type": "code",
   "execution_count": 2,
   "metadata": {},
   "outputs": [
    {
     "name": "stdout",
     "output_type": "stream",
     "text": [
      "(37476, 400, 1)\n"
     ]
    }
   ],
   "source": [
    "#Check shape of P picker data\n",
    "with h5py.File(\"p_resampled/uuss_validation_4s_1dup.h5\", \"r\") as f:\n",
    "    print(f[\"X\"][:].shape)"
   ]
  },
  {
   "cell_type": "code",
   "execution_count": 3,
   "metadata": {},
   "outputs": [],
   "source": [
    "#Read in noise\n",
    "file = h5py.File(\"noise/verticalComp.allNoiseYellowstoneWaveformsPermuted.h5\", \"r\")\n",
    "X = file[\"X\"][:]\n",
    "Y = file[\"Y\"][:]\n",
    "file.close()"
   ]
  },
  {
   "cell_type": "code",
   "execution_count": 4,
   "metadata": {},
   "outputs": [
    {
     "data": {
      "text/plain": [
       "(50295, 3001, 1)"
      ]
     },
     "execution_count": 4,
     "metadata": {},
     "output_type": "execute_result"
    }
   ],
   "source": [
    "X.shape"
   ]
  },
  {
   "cell_type": "code",
   "execution_count": 5,
   "metadata": {},
   "outputs": [],
   "source": [
    "center = X.shape[1]//2\n",
    "halfwidth = 200\n",
    "X_reduced = np.copy(X[:, center-halfwidth:center+halfwidth, :])\n",
    "Y_reduced = np.zeros(X_reduced.shape[0])-1"
   ]
  },
  {
   "cell_type": "code",
   "execution_count": 6,
   "metadata": {},
   "outputs": [
    {
     "data": {
      "text/plain": [
       "(50295, 400, 1)"
      ]
     },
     "execution_count": 6,
     "metadata": {},
     "output_type": "execute_result"
    }
   ],
   "source": [
    "X_reduced.shape"
   ]
  },
  {
   "cell_type": "code",
   "execution_count": 7,
   "metadata": {},
   "outputs": [
    {
     "data": {
      "text/plain": [
       "array([-1., -1., -1., ..., -1., -1., -1.])"
      ]
     },
     "execution_count": 7,
     "metadata": {},
     "output_type": "execute_result"
    }
   ],
   "source": [
    "Y_reduced"
   ]
  },
  {
   "cell_type": "code",
   "execution_count": 8,
   "metadata": {},
   "outputs": [],
   "source": [
    "outfile = h5py.File(\"noise/YSnoiseZ_4s.h5\", \"w\")\n",
    "outfile.create_dataset(\"X\", data=X_reduced)\n",
    "outfile.create_dataset(\"Y\", data=Y_reduced)\n",
    "outfile.close()"
   ]
  },
  {
   "cell_type": "code",
   "execution_count": 9,
   "metadata": {},
   "outputs": [
    {
     "name": "stdout",
     "output_type": "stream",
     "text": [
      "allNoiseYellowstoneWaveformsPermuted.h5               YSnoiseZ_4s.h5\r\n",
      "verticalComp.allNoiseYellowstoneWaveformsPermuted.h5\r\n"
     ]
    }
   ],
   "source": [
    "ls noise"
   ]
  },
  {
   "cell_type": "code",
   "execution_count": null,
   "metadata": {},
   "outputs": [],
   "source": []
  }
 ],
 "metadata": {
  "kernelspec": {
   "display_name": "Python 3",
   "language": "python",
   "name": "python3"
  },
  "language_info": {
   "codemirror_mode": {
    "name": "ipython",
    "version": 3
   },
   "file_extension": ".py",
   "mimetype": "text/x-python",
   "name": "python",
   "nbconvert_exporter": "python",
   "pygments_lexer": "ipython3",
   "version": "3.8.5"
  }
 },
 "nbformat": 4,
 "nbformat_minor": 4
}
