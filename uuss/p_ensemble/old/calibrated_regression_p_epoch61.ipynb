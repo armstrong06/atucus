{
 "cells": [
  {
   "cell_type": "code",
   "execution_count": 1,
   "metadata": {},
   "outputs": [],
   "source": [
    "import pandas as pd\n",
    "import numpy as np\n",
    "import matplotlib.pyplot as plt\n",
    "from scipy.stats import norm \n",
    "from sklearn.isotonic import IsotonicRegression"
   ]
  },
  {
   "cell_type": "code",
   "execution_count": 6,
   "metadata": {},
   "outputs": [
    {
     "name": "stdout",
     "output_type": "stream",
     "text": [
      "swag_NGB_uncertainty_25.npz\r\n",
      "swag_NGB_uncertainty_25_residual_summary_25.csv\r\n",
      "swag_test_fewerhist_uncertainty_25.npz\r\n",
      "swag_test_fewerhist_uncertainty_25_residual_summary_25.csv\r\n",
      "swag_validation_uncertainty_25.npz\r\n",
      "swag_validation_uncertainty_25_residual_summary_25.csv\r\n"
     ]
    }
   ],
   "source": [
    "ls seed1_128_0.0005_5e-3_0.0002_61_26_20/eval"
   ]
  },
  {
   "cell_type": "code",
   "execution_count": 7,
   "metadata": {},
   "outputs": [],
   "source": [
    "def load_model_results(file_name):\n",
    "    file = np.load(file_name)\n",
    "    predictions = file[\"predictions\"]\n",
    "    targets = file[\"targets\"][:, 0]\n",
    "    pred_mean = file[\"prediction_mean\"]\n",
    "    pred_std = file[\"prediction_std\"]\n",
    "    resids = targets - pred_mean\n",
    "\n",
    "    return predictions, pred_mean, pred_std, targets, resids\n",
    "\n",
    "def load_ensemble_predictions(dtype, data_path):\n",
    "    model1_file = f\"seed1_128_0.0005_5e-3_0.0002_61_26_20/eval/swag_{dtype}_uncertainty_25.npz\"\n",
    "    model2_file = f\"seed1_128_0.0005_5e-3_0.0002_61_26_20/eval/swag_{dtype}_uncertainty_25.npz\"\n",
    "    model3_file = f\"seed1_128_0.0005_5e-3_0.0002_61_26_20/eval/swag_{dtype}_uncertainty_25.npz\"\n",
    "\n",
    "    model1_preds, model1_pred_mean, model1_pred_std, model1_targets, model1_resids = load_model_results(model1_file)\n",
    "    model2_preds, model2_pred_mean, model2_pred_std, model2_targets, model2_resids = load_model_results(model2_file)\n",
    "    model3_preds, model3_pred_mean, model3_pred_std, model3_targets, model3_resids = load_model_results(model3_file)\n",
    "\n",
    "    # Join all predictions\n",
    "    ensemble_predictions = np.concatenate([model1_preds, model2_preds, model3_preds], axis=1)\n",
    "    # Get predicted pick and std\n",
    "    ensemble_means = np.mean(ensemble_predictions, axis=1)\n",
    "    ensemble_stds = np.std(ensemble_predictions, axis=1)\n",
    "    # Ensure targets are the same for all three models\n",
    "    assert np.array_equal(model1_targets, model2_targets)\n",
    "    assert np.array_equal(model1_targets, model3_targets)\n",
    "    # Calculate residual stats (actual-predicted)\n",
    "    pick_residuals = model1_targets - ensemble_means\n",
    "    residual_mean = np.mean(pick_residuals)\n",
    "    residual_std = np.std(pick_residuals)\n",
    "\n",
    "    # Combine into a dataframe\n",
    "    df_data = {\"y_pred\":ensemble_means, \"std\":ensemble_stds, \"y_act\":model1_targets, \"residual\":pick_residuals}\n",
    "    df = pd.DataFrame(data=df_data)\n",
    "    df.head()\n",
    "\n",
    "    # read in meta_df\n",
    "    if dtype==\"test\":\n",
    "        dtype=\"test_fewerhist\"\n",
    "    meta_df = pd.read_csv(f\"{data_path}/uuss_{dtype}.csv\")\n",
    "\n",
    "    return df, meta_df"
   ]
  },
  {
   "cell_type": "code",
   "execution_count": 9,
   "metadata": {},
   "outputs": [],
   "source": [
    "val_df, val_meta_df = load_ensemble_predictions(\"validation\", \"../uuss_data/p_resampled\")\n",
    "test_df, test_meta_df = load_ensemble_predictions(\"test_fewerhist\", \"../uuss_data/p_resampled\")"
   ]
  },
  {
   "cell_type": "code",
   "execution_count": 10,
   "metadata": {},
   "outputs": [
    {
     "name": "stdout",
     "output_type": "stream",
     "text": [
      "Validation df lengths: 37476 37476\n",
      "Test df lengths: 79906 79906\n",
      "Shared evids between datasets?: False\n"
     ]
    }
   ],
   "source": [
    "print(\"Validation df lengths:\", len(val_df), len(val_meta_df))\n",
    "print(\"Test df lengths:\", len(test_df), len(test_meta_df))\n",
    "print(\"Shared evids between datasets?:\", np.any(np.isin(test_meta_df.evid.unique(), val_meta_df.evid.unique())))"
   ]
  },
  {
   "cell_type": "markdown",
   "metadata": {},
   "source": [
    "# Accurate Uncertainties for Deep Learning Using Calibrated Regression\n",
    "Recalibration dataset $D = \\{ (F_t(y_t) , \\hat{P}(F_t(y_t))) \\}_{t=1}^T$\n",
    "1. Compute $F_t$ = CDF[$N(\\mu_t, \\sigma^2_t)]$ for t $\\in$ [1, T]\n",
    "2. Evalute $F_t(y_t)$ for t $\\in$ [1, T]\n",
    "3. compute $\\hat{P}(p)=\\frac{| \\{y_t | F_t(y_t) \\leq p, t=1...,T \\}|}{T}$, where $p=F_t(y_t)$ for t $\\in$ [1, T]\n",
    "\n",
    "Fit Isotonic Regression model R to D\n",
    "\n",
    "- Fitting regression model to D' = $\\{( \\hat{P}(F_t(y_t)), F_t(y_t)) \\}_{t=1}^T$ seems easier for adjusting the \"standard deviation\" to be calibrated.\n",
    "- When using D, will need to compute the CDF of the Gaussian with predicted $\\mu$ and $\\sigma$, transform with R, and then invert for $x_{lb}$ and $x_{ub}$. Since the CDF has been transformed, norm.ppf can no longer be used to invert. \n",
    "- When using D', can compute the ppf of the gaussian with predicted $\\mu$ and $\\sigma$ and evaluate it at R(lb) and R(ub). \n",
    "- I show below that $x_{lb}$ and $x_{ub}$ computed using the D' method intersect with the transformed CDF computed using D at 0.16 and 0.84. "
   ]
  },
  {
   "cell_type": "markdown",
   "metadata": {},
   "source": [
    "## Fit Predicted vs Empirical Curve $D = \\{ (F_t(y_t) , \\hat{P}(F_t(y_t))) \\}_{t=1}^T$ with Isotonic Regression"
   ]
  },
  {
   "cell_type": "code",
   "execution_count": 11,
   "metadata": {},
   "outputs": [
    {
     "name": "stdout",
     "output_type": "stream",
     "text": [
      "     y_pred       std  y_act  residual           cdf\n",
      "0  0.332379  0.020879   0.32 -0.012379  2.766310e-01\n",
      "1  0.160281  0.033722   0.20  0.039719  8.805712e-01\n",
      "2  0.415790  0.026829   0.43  0.014210  7.018172e-01\n",
      "3  0.405917  0.050744   0.45  0.044083  8.075080e-01\n",
      "4  0.263569  0.015867   0.18 -0.083569  6.938274e-08\n"
     ]
    }
   ],
   "source": [
    "# Do steps 1 & 2\n",
    "def eval_cdf(df):\n",
    "    df[\"cdf\"] = df.apply(lambda x: norm.cdf(x[\"y_act\"], x[\"y_pred\"], x[\"std\"]), axis=1)\n",
    "    print(df.head())\n",
    "eval_cdf(val_df)"
   ]
  },
  {
   "cell_type": "code",
   "execution_count": 12,
   "metadata": {},
   "outputs": [
    {
     "data": {
      "image/png": "[encoded data removed]",
      "text/plain": [
       "<Figure size 432x288 with 1 Axes>"
      ]
     },
     "metadata": {
      "needs_background": "light"
     },
     "output_type": "display_data"
    }
   ],
   "source": [
    "# Do step 3\n",
    "def plot_empirical_cdf(df, swap_xy=False):\n",
    "    fig = plt.figure()\n",
    "    plt.plot(np.arange(0, 1.01, 0.1), np.arange(0, 1.01, 0.1), color=\"gray\", linestyle=\"--\", label=\"Perfect Calibration\")\n",
    "    if not swap_xy:\n",
    "        plt.scatter(df.cdf.values, df.p_hat.values, alpha=0.1)\n",
    "        plt.ylabel(\"Empirical Cumulative Distribution\")\n",
    "        plt.xlabel(\"Predicted Cumulative Distribution\")\n",
    "    else:\n",
    "        plt.scatter(df.p_hat.values, df.cdf.values, alpha=0.1)\n",
    "        plt.xlabel(\"Empirical Cumulative Distribution\")\n",
    "        plt.ylabel(\"Predicted Cumulative Distribution\")\n",
    "    plt.title(\"Estimating Cumulative Density of Forecast\")\n",
    "    plt.legend();\n",
    "    plt.show()\n",
    "    \n",
    "def compute_empirical_cdf(df, swap_xy=False):\n",
    "    p_hat = []\n",
    "    T = len(df)\n",
    "    for index, row in df.iterrows():\n",
    "        p = row[\"cdf\"]\n",
    "        p_hat.append((df[\"cdf\"] <= p).sum()/T)\n",
    "    df[\"p_hat\"] = p_hat\n",
    "\n",
    "    plot_empirical_cdf(df, swap_xy)\n",
    "compute_empirical_cdf(val_df)"
   ]
  },
  {
   "cell_type": "code",
   "execution_count": 13,
   "metadata": {},
   "outputs": [],
   "source": [
    "def check_nondecreasing(df):\n",
    "    assert ~np.any(np.diff(df.sort_values(\"cdf\")[\"p_hat\"].values) < 0), \"CDF vs P_Hat is not non-decreasing\"\n",
    "    assert ~np.any(np.diff(df.sort_values(\"p_hat\")[\"cdf\"].values) < 0), \"P_Hat vs CDF is not non-decreasing\"\n",
    "    \n",
    "check_nondecreasing(val_df)"
   ]
  },
  {
   "cell_type": "code",
   "execution_count": 14,
   "metadata": {},
   "outputs": [],
   "source": [
    "def plot_calibration_curve(df, regressor, title, swap_xy=False):\n",
    "    p_hat_cal = []\n",
    "    p_hat_uncal = []\n",
    "    T = len(df)\n",
    "    for p in np.arange(0, 1.05, 0.05):\n",
    "        if swap_xy:\n",
    "            p_hat_cal.append((df.cdf <= regressor.predict([p])[0]).sum()/T)\n",
    "        else:\n",
    "            p_hat_cal.append((regressor.predict(df.cdf) <= p).sum()/T)\n",
    "        \n",
    "        p_hat_uncal.append((df[\"cdf\"] <= p).sum()/T)\n",
    "\n",
    "    plt.plot(np.arange(0, 1.05, 0.05), np.arange(0, 1.05, 0.05), color=\"gray\", linestyle=\"--\")\n",
    "    plt.plot(np.arange(0, 1.05, 0.05), p_hat_cal, marker=\"o\", label=\"calibrated\")\n",
    "    plt.plot(np.arange(0, 1.05, 0.05), p_hat_uncal, marker=\"o\", label=\"uncalibrated\")\n",
    "    plt.legend()\n",
    "    plt.title(title)"
   ]
  },
  {
   "cell_type": "markdown",
   "metadata": {},
   "source": [
    "## Fit Empirical vs Predicted Curve $D=\\{( \\hat{P}(F_t(y_t)), F_t(y_t)) \\}_{t=1}^T$ with Isotonic Regression"
   ]
  },
  {
   "cell_type": "code",
   "execution_count": 15,
   "metadata": {},
   "outputs": [
    {
     "data": {
      "image/png": "[encoded data removed]",
      "text/plain": [
       "<Figure size 432x288 with 1 Axes>"
      ]
     },
     "metadata": {
      "needs_background": "light"
     },
     "output_type": "display_data"
    }
   ],
   "source": [
    "plot_empirical_cdf(val_df, swap_xy=True)"
   ]
  },
  {
   "cell_type": "code",
   "execution_count": 16,
   "metadata": {},
   "outputs": [
    {
     "data": {
      "image/png": "[encoded data removed]",
      "text/plain": [
       "<Figure size 432x288 with 1 Axes>"
      ]
     },
     "metadata": {
      "needs_background": "light"
     },
     "output_type": "display_data"
    }
   ],
   "source": [
    "# Fit isotonic regression model to Empirical vs Predicted curve. \n",
    "iso_reg_inv = IsotonicRegression().fit(val_df.p_hat.values, val_df.cdf.values)\n",
    "plot_calibration_curve(val_df, iso_reg_inv, r\"Validation Calibration Curve - fit$(\\hat{P}, F_t)$\", swap_xy=True)"
   ]
  },
  {
   "cell_type": "code",
   "execution_count": 17,
   "metadata": {},
   "outputs": [
    {
     "name": "stdout",
     "output_type": "stream",
     "text": [
      "     y_pred       std  y_act  residual       cdf\n",
      "0  0.297365  0.017103   0.32  0.022635  0.907163\n",
      "1  0.193651  0.010078   0.20  0.006349  0.735652\n",
      "2  0.425273  0.027167   0.43  0.004727  0.569068\n",
      "3  0.477215  0.043210   0.45 -0.027215  0.264402\n",
      "4  0.134773  0.020061   0.18  0.045227  0.987916\n"
     ]
    },
    {
     "data": {
      "image/png": "[encoded data removed]",
      "text/plain": [
       "<Figure size 432x288 with 1 Axes>"
      ]
     },
     "metadata": {
      "needs_background": "light"
     },
     "output_type": "display_data"
    }
   ],
   "source": [
    "eval_cdf(test_df)\n",
    "plot_calibration_curve(test_df, iso_reg_inv, r\"Test Calibration Curve - $(\\hat{P}, F_t)$\", swap_xy=True)"
   ]
  },
  {
   "cell_type": "markdown",
   "metadata": {},
   "source": [
    "# Go with Isotonic Regression of $D = \\{(\\hat{P}(F_t(y_t)), F_t(y_t))\\}_{t=1}^T$...\n",
    "(Empirical vs Predicted) because it is easier to adjust the X bounds to truly contain 68% of the data. The other ways is better for identifying what percent of data are truly within the original 68% bounds (e.g. 68% -> 39%). "
   ]
  },
  {
   "cell_type": "code",
   "execution_count": 19,
   "metadata": {},
   "outputs": [
    {
     "data": {
      "text/html": [
       "<div>\n",
       "<style scoped>\n",
       "    .dataframe tbody tr th:only-of-type {\n",
       "        vertical-align: middle;\n",
       "    }\n",
       "\n",
       "    .dataframe tbody tr th {\n",
       "        vertical-align: top;\n",
       "    }\n",
       "\n",
       "    .dataframe thead th {\n",
       "        text-align: right;\n",
       "    }\n",
       "</style>\n",
       "<table border=\"1\" class=\"dataframe\">\n",
       "  <thead>\n",
       "    <tr style=\"text-align: right;\">\n",
       "      <th></th>\n",
       "      <th>y_pred</th>\n",
       "      <th>std</th>\n",
       "      <th>y_act</th>\n",
       "      <th>residual</th>\n",
       "      <th>cdf</th>\n",
       "      <th>lb_y</th>\n",
       "      <th>ub_y</th>\n",
       "    </tr>\n",
       "  </thead>\n",
       "  <tbody>\n",
       "    <tr>\n",
       "      <th>0</th>\n",
       "      <td>0.297365</td>\n",
       "      <td>0.017103</td>\n",
       "      <td>0.32</td>\n",
       "      <td>0.022635</td>\n",
       "      <td>0.907163</td>\n",
       "      <td>0.270085</td>\n",
       "      <td>0.330671</td>\n",
       "    </tr>\n",
       "    <tr>\n",
       "      <th>1</th>\n",
       "      <td>0.193651</td>\n",
       "      <td>0.010078</td>\n",
       "      <td>0.20</td>\n",
       "      <td>0.006349</td>\n",
       "      <td>0.735652</td>\n",
       "      <td>0.177575</td>\n",
       "      <td>0.213277</td>\n",
       "    </tr>\n",
       "    <tr>\n",
       "      <th>2</th>\n",
       "      <td>0.425273</td>\n",
       "      <td>0.027167</td>\n",
       "      <td>0.43</td>\n",
       "      <td>0.004727</td>\n",
       "      <td>0.569068</td>\n",
       "      <td>0.381941</td>\n",
       "      <td>0.478178</td>\n",
       "    </tr>\n",
       "    <tr>\n",
       "      <th>3</th>\n",
       "      <td>0.477215</td>\n",
       "      <td>0.043210</td>\n",
       "      <td>0.45</td>\n",
       "      <td>-0.027215</td>\n",
       "      <td>0.264402</td>\n",
       "      <td>0.408293</td>\n",
       "      <td>0.561362</td>\n",
       "    </tr>\n",
       "    <tr>\n",
       "      <th>4</th>\n",
       "      <td>0.134773</td>\n",
       "      <td>0.020061</td>\n",
       "      <td>0.18</td>\n",
       "      <td>0.045227</td>\n",
       "      <td>0.987916</td>\n",
       "      <td>0.102775</td>\n",
       "      <td>0.173841</td>\n",
       "    </tr>\n",
       "  </tbody>\n",
       "</table>\n",
       "</div>"
      ],
      "text/plain": [
       "     y_pred       std  y_act  residual       cdf      lb_y      ub_y\n",
       "0  0.297365  0.017103   0.32  0.022635  0.907163  0.270085  0.330671\n",
       "1  0.193651  0.010078   0.20  0.006349  0.735652  0.177575  0.213277\n",
       "2  0.425273  0.027167   0.43  0.004727  0.569068  0.381941  0.478178\n",
       "3  0.477215  0.043210   0.45 -0.027215  0.264402  0.408293  0.561362\n",
       "4  0.134773  0.020061   0.18  0.045227  0.987916  0.102775  0.173841"
      ]
     },
     "execution_count": 19,
     "metadata": {},
     "output_type": "execute_result"
    }
   ],
   "source": [
    "lb = 0.16\n",
    "ub = 0.84\n",
    "\n",
    "# Transform the lower and upper bounds to be calibrated\n",
    "lb_transform = iso_reg_inv.transform([lb])[0]\n",
    "ub_transform = iso_reg_inv.transform([ub])[0]\n",
    "\n",
    "# Compute the lower and upper bounds for each prediction given the mean and std\n",
    "test_df[\"lb_y\"] = test_df.apply(lambda x: norm.ppf(lb_transform, x[\"y_pred\"], x[\"std\"]), axis=1)\n",
    "test_df[\"ub_y\"] = test_df.apply(lambda x: norm.ppf(ub_transform, x[\"y_pred\"], x[\"std\"]), axis=1)\n",
    "\n",
    "test_df.head()"
   ]
  },
  {
   "cell_type": "code",
   "execution_count": 20,
   "metadata": {},
   "outputs": [
    {
     "data": {
      "text/plain": [
       "0.660213250569419"
      ]
     },
     "execution_count": 20,
     "metadata": {},
     "output_type": "execute_result"
    }
   ],
   "source": [
    "# Fraction of true picks that are within the calibrated lower and upper bounds \n",
    "((test_df[\"y_act\"] > test_df[\"lb_y\"]) & (test_df[\"y_act\"] < test_df[\"ub_y\"])).sum()/len(test_df)"
   ]
  },
  {
   "cell_type": "code",
   "execution_count": 21,
   "metadata": {},
   "outputs": [
    {
     "data": {
      "text/plain": [
       "['p_calibration_model.joblib']"
      ]
     },
     "execution_count": 21,
     "metadata": {},
     "output_type": "execute_result"
    }
   ],
   "source": [
    "from joblib import dump\n",
    "dump(iso_reg_inv, 'p_calibration_model.joblib') "
   ]
  },
  {
   "cell_type": "code",
   "execution_count": null,
   "metadata": {},
   "outputs": [],
   "source": [
    "ls"
   ]
  }
 ],
 "metadata": {
  "kernelspec": {
   "display_name": "Python 3",
   "language": "python",
   "name": "python3"
  },
  "language_info": {
   "codemirror_mode": {
    "name": "ipython",
    "version": 3
   },
   "file_extension": ".py",
   "mimetype": "text/x-python",
   "name": "python",
   "nbconvert_exporter": "python",
   "pygments_lexer": "ipython3",
   "version": "3.8.5"
  }
 },
 "nbformat": 4,
 "nbformat_minor": 5
}
