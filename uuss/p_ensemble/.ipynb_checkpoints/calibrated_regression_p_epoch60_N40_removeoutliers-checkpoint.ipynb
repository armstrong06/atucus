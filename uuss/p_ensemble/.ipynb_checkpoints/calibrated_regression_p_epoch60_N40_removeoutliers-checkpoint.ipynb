{
 "cells": [
  {
   "cell_type": "code",
   "execution_count": 1,
   "metadata": {},
   "outputs": [],
   "source": [
    "import pandas as pd\n",
    "import numpy as np\n",
    "import matplotlib.pyplot as plt\n",
    "from scipy.stats import norm \n",
    "from sklearn.isotonic import IsotonicRegression"
   ]
  },
  {
   "cell_type": "code",
   "execution_count": 2,
   "metadata": {},
   "outputs": [],
   "source": [
    "def load_model_results(file_name):\n",
    "    file = np.load(file_name)\n",
    "    predictions = file[\"predictions\"]\n",
    "    targets = file[\"targets\"][:, 0]\n",
    "    pred_mean = file[\"prediction_mean\"]\n",
    "    pred_std = file[\"prediction_std\"]\n",
    "    resids = targets - pred_mean\n",
    "\n",
    "    return predictions, pred_mean, pred_std, targets, resids\n",
    "\n",
    "def load_ensemble_predictions(dtype, data_path, trim=True):\n",
    "    model1_file = f\"seed1_128_0.0005_5e-3_0.0002_75_25_20/eval_40/swag_{dtype}_uncertainty_60.npz\"\n",
    "    model2_file = f\"seed2_128_0.0005_5e-3_0.0002_75_25_20/eval_40/swag_{dtype}_uncertainty_60.npz\"\n",
    "    model3_file = f\"seed3_128_0.0005_5e-3_0.0002_75_25_20/eval_40/swag_{dtype}_uncertainty_60.npz\"\n",
    "\n",
    "    model1_preds, model1_pred_mean, model1_pred_std, model1_targets, model1_resids = load_model_results(model1_file)\n",
    "    model2_preds, model2_pred_mean, model2_pred_std, model2_targets, model2_resids = load_model_results(model2_file)\n",
    "    model3_preds, model3_pred_mean, model3_pred_std, model3_targets, model3_resids = load_model_results(model3_file)\n",
    "\n",
    "    # Join all predictions\n",
    "    ensemble_predictions = np.concatenate([model1_preds, model2_preds, model3_preds], axis=1)\n",
    "#     print(ensemble_predictions[0], np.std(ensemble_predictions[0]), ensemble_predictions.shape, ensemble_predictions[0].shape)\n",
    "    # Get predicted pick and std\n",
    "    #ensemble_means = np.mean(ensemble_predictions, axis=1)\n",
    "    if trim:\n",
    "#         perc5, perc95  = np.percentile(ensemble_predictions, [5, 95], axis=1)\n",
    "#         trimmed_predictions = np.full((ensemble_predictions.shape[0], int(0.9*ensemble_predictions.shape[1])), np.nan)\n",
    "#         for i in range(len(ensemble_predictions)):\n",
    "#             trimmed = ensemble_predictions[i][np.where(np.logical_and(ensemble_predictions[i] > perc5[i], \n",
    "#                                                                       ensemble_predictions[i] < perc95[i]))]\n",
    "#             trimmed_predictions[i, :trimmed.shape[0]] = trimmed\n",
    "#         ensemble_medians = np.nanmedian(trimmed_predictions, axis=1)\n",
    "#         ensemble_stds = np.nanstd(trimmed_predictions, axis=1)\n",
    "\n",
    "        q1, q3  = np.percentile(ensemble_predictions, [25, 75], axis=1)\n",
    "        iqr = q3 - q1\n",
    "        if1 = q1 - 1.5*iqr\n",
    "        if3 = q3 + 1.5*iqr\n",
    "        ensemble_stds = np.zeros(ensemble_predictions.shape[0])\n",
    "        ensemble_medians = np.zeros(ensemble_predictions.shape[0])\n",
    "        for i in range(len(ensemble_predictions)):\n",
    "            trimmed = ensemble_predictions[i][np.where(np.logical_and(ensemble_predictions[i] > if1[i], \n",
    "                                                                      ensemble_predictions[i] < if3[i]))]\n",
    "            ensemble_stds[i] = np.std(trimmed)\n",
    "            ensemble_medians[i] = np.median(trimmed)\n",
    "    else:\n",
    "        ensemble_medians = np.median(ensemble_predictions, axis=1)\n",
    "        ensemble_stds = np.std(ensemble_predictions, axis=1)\n",
    "    # Ensure targets are the same for all three models\n",
    "    assert np.array_equal(model1_targets, model2_targets)\n",
    "    assert np.array_equal(model1_targets, model3_targets)\n",
    "    # Calculate residual stats (actual-predicted)\n",
    "    #pick_residuals = model1_targets - ensemble_means\n",
    "    pick_residuals = model1_targets - ensemble_medians\n",
    "    residual_mean = np.mean(pick_residuals)\n",
    "    residual_std = np.std(pick_residuals)\n",
    "\n",
    "    # Combine into a dataframe\n",
    "    #df_data = {\"y_pred\":ensemble_means, \"std\":ensemble_stds, \"y_act\":model1_targets, \"residual\":pick_residuals}\n",
    "    df_data = {\"y_pred\":ensemble_medians, \"std\":ensemble_stds, \"y_act\":model1_targets, \"residual\":pick_residuals}\n",
    "\n",
    "    df = pd.DataFrame(data=df_data)\n",
    "    df.head()\n",
    "\n",
    "    # read in meta_df\n",
    "    if dtype==\"test\":\n",
    "        dtype=\"test_fewerhist\"\n",
    "    meta_df = pd.read_csv(f\"{data_path}/uuss_{dtype}.csv\")\n",
    "\n",
    "    return df, meta_df"
   ]
  },
  {
   "cell_type": "code",
   "execution_count": 3,
   "metadata": {},
   "outputs": [],
   "source": [
    "val_df, val_meta_df = load_ensemble_predictions(\"validation\", \"../uuss_data/p_resampled\")\n",
    "test_df, test_meta_df = load_ensemble_predictions(\"test_fewerhist\", \"../uuss_data/p_resampled\")"
   ]
  },
  {
   "cell_type": "code",
   "execution_count": 4,
   "metadata": {},
   "outputs": [
    {
     "name": "stdout",
     "output_type": "stream",
     "text": [
      "Validation df lengths: 37476 37476\n",
      "Test df lengths: 79906 79906\n",
      "Shared evids between datasets?: False\n"
     ]
    }
   ],
   "source": [
    "print(\"Validation df lengths:\", len(val_df), len(val_meta_df))\n",
    "print(\"Test df lengths:\", len(test_df), len(test_meta_df))\n",
    "print(\"Shared evids between datasets?:\", np.any(np.isin(test_meta_df.evid.unique(), val_meta_df.evid.unique())))"
   ]
  },
  {
   "cell_type": "markdown",
   "metadata": {},
   "source": [
    "# Accurate Uncertainties for Deep Learning Using Calibrated Regression\n",
    "Recalibration dataset $D = \\{ (F_t(y_t) , \\hat{P}(F_t(y_t))) \\}_{t=1}^T$\n",
    "1. Compute $F_t$ = CDF[$N(\\mu_t, \\sigma^2_t)]$ for t $\\in$ [1, T]\n",
    "2. Evalute $F_t(y_t)$ for t $\\in$ [1, T]\n",
    "3. compute $\\hat{P}(p)=\\frac{| \\{y_t | F_t(y_t) \\leq p, t=1...,T \\}|}{T}$, where $p=F_t(y_t)$ for t $\\in$ [1, T]\n",
    "\n",
    "Fit Isotonic Regression model R to D\n",
    "\n",
    "- Fitting regression model to D' = $\\{( \\hat{P}(F_t(y_t)), F_t(y_t)) \\}_{t=1}^T$ seems easier for adjusting the \"standard deviation\" to be calibrated.\n",
    "- When using D, will need to compute the CDF of the Gaussian with predicted $\\mu$ and $\\sigma$, transform with R, and then invert for $x_{lb}$ and $x_{ub}$. Since the CDF has been transformed, norm.ppf can no longer be used to invert. \n",
    "- When using D', can compute the ppf of the gaussian with predicted $\\mu$ and $\\sigma$ and evaluate it at R(lb) and R(ub). \n",
    "- I show below that $x_{lb}$ and $x_{ub}$ computed using the D' method intersect with the transformed CDF computed using D at 0.16 and 0.84. "
   ]
  },
  {
   "cell_type": "markdown",
   "metadata": {},
   "source": [
    "## Fit Predicted vs Empirical Curve $D = \\{ (F_t(y_t) , \\hat{P}(F_t(y_t))) \\}_{t=1}^T$ with Isotonic Regression"
   ]
  },
  {
   "cell_type": "code",
   "execution_count": 5,
   "metadata": {},
   "outputs": [
    {
     "name": "stdout",
     "output_type": "stream",
     "text": [
      "     y_pred       std  y_act  residual       cdf\n",
      "0  0.315152  0.028042   0.32  0.004848  0.568627\n",
      "1  0.146364  0.028169   0.20  0.053636  0.971547\n",
      "2  0.416521  0.031533   0.43  0.013479  0.665483\n",
      "3  0.388123  0.068646   0.45  0.061877  0.816309\n",
      "4  0.245817  0.022109   0.18 -0.065817  0.001456\n"
     ]
    }
   ],
   "source": [
    "# Do steps 1 & 2\n",
    "def eval_cdf(df):\n",
    "    df[\"cdf\"] = df.apply(lambda x: norm.cdf(x[\"y_act\"], x[\"y_pred\"], x[\"std\"]), axis=1)\n",
    "    print(df.head())\n",
    "eval_cdf(val_df)"
   ]
  },
  {
   "cell_type": "code",
   "execution_count": 6,
   "metadata": {},
   "outputs": [
    {
     "data": {
      "image/png": "[encoded data removed]",
      "text/plain": [
       "<Figure size 432x288 with 1 Axes>"
      ]
     },
     "metadata": {
      "needs_background": "light"
     },
     "output_type": "display_data"
    }
   ],
   "source": [
    "# Do step 3\n",
    "def plot_empirical_cdf(df, swap_xy=False):\n",
    "    fig = plt.figure()\n",
    "    plt.plot(np.arange(0, 1.01, 0.1), np.arange(0, 1.01, 0.1), color=\"gray\", linestyle=\"--\", label=\"Perfect Calibration\")\n",
    "    if not swap_xy:\n",
    "        plt.scatter(df.cdf.values, df.p_hat.values, alpha=0.1)\n",
    "        plt.ylabel(\"Empirical Cumulative Distribution\")\n",
    "        plt.xlabel(\"Predicted Cumulative Distribution\")\n",
    "    else:\n",
    "        plt.scatter(df.p_hat.values, df.cdf.values, alpha=0.1)\n",
    "        plt.xlabel(\"Empirical Cumulative Distribution\")\n",
    "        plt.ylabel(\"Predicted Cumulative Distribution\")\n",
    "    plt.title(\"Estimating Cumulative Density of Forecast\")\n",
    "    plt.legend();\n",
    "    plt.show()\n",
    "    \n",
    "def compute_empirical_cdf(df, swap_xy=False):\n",
    "    p_hat = []\n",
    "    T = len(df)\n",
    "    for index, row in df.iterrows():\n",
    "        p = row[\"cdf\"]\n",
    "        p_hat.append((df[\"cdf\"] <= p).sum()/T)\n",
    "    df[\"p_hat\"] = p_hat\n",
    "\n",
    "    plot_empirical_cdf(df, swap_xy)\n",
    "compute_empirical_cdf(val_df)"
   ]
  },
  {
   "cell_type": "code",
   "execution_count": 7,
   "metadata": {},
   "outputs": [],
   "source": [
    "def check_nondecreasing(df):\n",
    "    assert ~np.any(np.diff(df.sort_values(\"cdf\")[\"p_hat\"].values) < 0), \"CDF vs P_Hat is not non-decreasing\"\n",
    "    assert ~np.any(np.diff(df.sort_values(\"p_hat\")[\"cdf\"].values) < 0), \"P_Hat vs CDF is not non-decreasing\"\n",
    "    \n",
    "check_nondecreasing(val_df)"
   ]
  },
  {
   "cell_type": "code",
   "execution_count": 8,
   "metadata": {},
   "outputs": [
    {
     "data": {
      "text/html": [
       "<div>\n",
       "<style scoped>\n",
       "    .dataframe tbody tr th:only-of-type {\n",
       "        vertical-align: middle;\n",
       "    }\n",
       "\n",
       "    .dataframe tbody tr th {\n",
       "        vertical-align: top;\n",
       "    }\n",
       "\n",
       "    .dataframe thead th {\n",
       "        text-align: right;\n",
       "    }\n",
       "</style>\n",
       "<table border=\"1\" class=\"dataframe\">\n",
       "  <thead>\n",
       "    <tr style=\"text-align: right;\">\n",
       "      <th></th>\n",
       "      <th>y_pred</th>\n",
       "      <th>std</th>\n",
       "      <th>y_act</th>\n",
       "      <th>residual</th>\n",
       "      <th>cdf</th>\n",
       "      <th>p_hat</th>\n",
       "    </tr>\n",
       "  </thead>\n",
       "  <tbody>\n",
       "    <tr>\n",
       "      <th>18118</th>\n",
       "      <td>-0.359804</td>\n",
       "      <td>0.027230</td>\n",
       "      <td>0.18</td>\n",
       "      <td>0.539804</td>\n",
       "      <td>1.0</td>\n",
       "      <td>1.0</td>\n",
       "    </tr>\n",
       "    <tr>\n",
       "      <th>6322</th>\n",
       "      <td>-0.138594</td>\n",
       "      <td>0.031760</td>\n",
       "      <td>0.16</td>\n",
       "      <td>0.298594</td>\n",
       "      <td>1.0</td>\n",
       "      <td>1.0</td>\n",
       "    </tr>\n",
       "    <tr>\n",
       "      <th>31665</th>\n",
       "      <td>-0.309073</td>\n",
       "      <td>0.021756</td>\n",
       "      <td>0.15</td>\n",
       "      <td>0.459073</td>\n",
       "      <td>1.0</td>\n",
       "      <td>1.0</td>\n",
       "    </tr>\n",
       "    <tr>\n",
       "      <th>6715</th>\n",
       "      <td>-0.428299</td>\n",
       "      <td>0.053771</td>\n",
       "      <td>0.45</td>\n",
       "      <td>0.878299</td>\n",
       "      <td>1.0</td>\n",
       "      <td>1.0</td>\n",
       "    </tr>\n",
       "    <tr>\n",
       "      <th>31496</th>\n",
       "      <td>-0.010809</td>\n",
       "      <td>0.036742</td>\n",
       "      <td>0.30</td>\n",
       "      <td>0.310809</td>\n",
       "      <td>1.0</td>\n",
       "      <td>1.0</td>\n",
       "    </tr>\n",
       "    <tr>\n",
       "      <th>31495</th>\n",
       "      <td>-0.141055</td>\n",
       "      <td>0.035379</td>\n",
       "      <td>0.23</td>\n",
       "      <td>0.371055</td>\n",
       "      <td>1.0</td>\n",
       "      <td>1.0</td>\n",
       "    </tr>\n",
       "    <tr>\n",
       "      <th>16285</th>\n",
       "      <td>-0.291281</td>\n",
       "      <td>0.034474</td>\n",
       "      <td>0.30</td>\n",
       "      <td>0.591281</td>\n",
       "      <td>1.0</td>\n",
       "      <td>1.0</td>\n",
       "    </tr>\n",
       "    <tr>\n",
       "      <th>24965</th>\n",
       "      <td>-0.264377</td>\n",
       "      <td>0.039512</td>\n",
       "      <td>0.13</td>\n",
       "      <td>0.394377</td>\n",
       "      <td>1.0</td>\n",
       "      <td>1.0</td>\n",
       "    </tr>\n",
       "    <tr>\n",
       "      <th>20950</th>\n",
       "      <td>-0.160278</td>\n",
       "      <td>0.036428</td>\n",
       "      <td>0.26</td>\n",
       "      <td>0.420277</td>\n",
       "      <td>1.0</td>\n",
       "      <td>1.0</td>\n",
       "    </tr>\n",
       "    <tr>\n",
       "      <th>24000</th>\n",
       "      <td>-0.194773</td>\n",
       "      <td>0.038604</td>\n",
       "      <td>0.14</td>\n",
       "      <td>0.334773</td>\n",
       "      <td>1.0</td>\n",
       "      <td>1.0</td>\n",
       "    </tr>\n",
       "    <tr>\n",
       "      <th>25820</th>\n",
       "      <td>-0.003302</td>\n",
       "      <td>0.029294</td>\n",
       "      <td>0.34</td>\n",
       "      <td>0.343302</td>\n",
       "      <td>1.0</td>\n",
       "      <td>1.0</td>\n",
       "    </tr>\n",
       "  </tbody>\n",
       "</table>\n",
       "</div>"
      ],
      "text/plain": [
       "         y_pred       std  y_act  residual  cdf  p_hat\n",
       "18118 -0.359804  0.027230   0.18  0.539804  1.0    1.0\n",
       "6322  -0.138594  0.031760   0.16  0.298594  1.0    1.0\n",
       "31665 -0.309073  0.021756   0.15  0.459073  1.0    1.0\n",
       "6715  -0.428299  0.053771   0.45  0.878299  1.0    1.0\n",
       "31496 -0.010809  0.036742   0.30  0.310809  1.0    1.0\n",
       "31495 -0.141055  0.035379   0.23  0.371055  1.0    1.0\n",
       "16285 -0.291281  0.034474   0.30  0.591281  1.0    1.0\n",
       "24965 -0.264377  0.039512   0.13  0.394377  1.0    1.0\n",
       "20950 -0.160278  0.036428   0.26  0.420277  1.0    1.0\n",
       "24000 -0.194773  0.038604   0.14  0.334773  1.0    1.0\n",
       "25820 -0.003302  0.029294   0.34  0.343302  1.0    1.0"
      ]
     },
     "execution_count": 8,
     "metadata": {},
     "output_type": "execute_result"
    }
   ],
   "source": [
    "val_df.sort_values(\"cdf\")[37465:]"
   ]
  },
  {
   "cell_type": "code",
   "execution_count": 9,
   "metadata": {},
   "outputs": [],
   "source": [
    "def plot_calibration_curve(df, regressor, title, swap_xy=False):\n",
    "    p_hat_cal = []\n",
    "    p_hat_uncal = []\n",
    "    T = len(df)\n",
    "    for p in np.arange(0, 1.05, 0.05):\n",
    "        if swap_xy:\n",
    "            p_hat_cal.append((df.cdf <= regressor.predict([p])[0]).sum()/T)\n",
    "        else:\n",
    "            p_hat_cal.append((regressor.predict(df.cdf) <= p).sum()/T)\n",
    "        \n",
    "        p_hat_uncal.append((df[\"cdf\"] <= p).sum()/T)\n",
    "\n",
    "    plt.plot(np.arange(0, 1.05, 0.05), np.arange(0, 1.05, 0.05), color=\"gray\", linestyle=\"--\")\n",
    "    plt.plot(np.arange(0, 1.05, 0.05), p_hat_cal, marker=\"o\", label=\"calibrated\")\n",
    "    plt.plot(np.arange(0, 1.05, 0.05), p_hat_uncal, marker=\"o\", label=\"uncalibrated\")\n",
    "    plt.legend()\n",
    "    plt.title(title)"
   ]
  },
  {
   "cell_type": "markdown",
   "metadata": {},
   "source": [
    "## Fit Empirical vs Predicted Curve $D=\\{( \\hat{P}(F_t(y_t)), F_t(y_t)) \\}_{t=1}^T$ with Isotonic Regression"
   ]
  },
  {
   "cell_type": "code",
   "execution_count": 10,
   "metadata": {},
   "outputs": [
    {
     "data": {
      "image/png": "[encoded data removed]",
      "text/plain": [
       "<Figure size 432x288 with 1 Axes>"
      ]
     },
     "metadata": {
      "needs_background": "light"
     },
     "output_type": "display_data"
    }
   ],
   "source": [
    "# Inner fence median\n",
    "plot_empirical_cdf(val_df, swap_xy=True)"
   ]
  },
  {
   "cell_type": "code",
   "execution_count": 11,
   "metadata": {},
   "outputs": [
    {
     "data": {
      "image/png": "[encoded data removed]",
      "text/plain": [
       "<Figure size 432x288 with 1 Axes>"
      ]
     },
     "metadata": {
      "needs_background": "light"
     },
     "output_type": "display_data"
    }
   ],
   "source": [
    "# Fit isotonic regression model to Empirical vs Predicted curve. \n",
    "iso_reg_inv = IsotonicRegression().fit(val_df.p_hat.values, val_df.cdf.values)\n",
    "plot_calibration_curve(val_df, iso_reg_inv, r\"Validation Calibration Curve - fit$(\\hat{P}, F_t)$\", swap_xy=True)"
   ]
  },
  {
   "cell_type": "code",
   "execution_count": 12,
   "metadata": {},
   "outputs": [
    {
     "name": "stdout",
     "output_type": "stream",
     "text": [
      "     y_pred       std  y_act  residual       cdf\n",
      "0  0.293970  0.017291   0.32  0.026030  0.933895\n",
      "1  0.192086  0.011145   0.20  0.007914  0.761159\n",
      "2  0.427116  0.024660   0.43  0.002884  0.546558\n",
      "3  0.475283  0.034338   0.45 -0.025283  0.230771\n",
      "4  0.134654  0.019223   0.18  0.045346  0.990836\n"
     ]
    },
    {
     "data": {
      "image/png": "[encoded data removed]",
      "text/plain": [
       "<Figure size 432x288 with 1 Axes>"
      ]
     },
     "metadata": {
      "needs_background": "light"
     },
     "output_type": "display_data"
    }
   ],
   "source": [
    "eval_cdf(test_df)\n",
    "plot_calibration_curve(test_df, iso_reg_inv, r\"Test Calibration Curve - $(\\hat{P}, F_t)$\", swap_xy=True)"
   ]
  },
  {
   "cell_type": "markdown",
   "metadata": {},
   "source": [
    "# Go with Isotonic Regression of $D = \\{(\\hat{P}(F_t(y_t)), F_t(y_t))\\}_{t=1}^T$...\n",
    "(Empirical vs Predicted) because it is easier to adjust the X bounds to truly contain 68% of the data. The other ways is better for identifying what percent of data are truly within the original 68% bounds (e.g. 68% -> 39%). "
   ]
  },
  {
   "cell_type": "code",
   "execution_count": 13,
   "metadata": {},
   "outputs": [
    {
     "data": {
      "text/html": [
       "<div>\n",
       "<style scoped>\n",
       "    .dataframe tbody tr th:only-of-type {\n",
       "        vertical-align: middle;\n",
       "    }\n",
       "\n",
       "    .dataframe tbody tr th {\n",
       "        vertical-align: top;\n",
       "    }\n",
       "\n",
       "    .dataframe thead th {\n",
       "        text-align: right;\n",
       "    }\n",
       "</style>\n",
       "<table border=\"1\" class=\"dataframe\">\n",
       "  <thead>\n",
       "    <tr style=\"text-align: right;\">\n",
       "      <th></th>\n",
       "      <th>y_pred</th>\n",
       "      <th>std</th>\n",
       "      <th>y_act</th>\n",
       "      <th>residual</th>\n",
       "      <th>cdf</th>\n",
       "      <th>lb_y</th>\n",
       "      <th>ub_y</th>\n",
       "    </tr>\n",
       "  </thead>\n",
       "  <tbody>\n",
       "    <tr>\n",
       "      <th>0</th>\n",
       "      <td>0.293970</td>\n",
       "      <td>0.017291</td>\n",
       "      <td>0.32</td>\n",
       "      <td>0.026030</td>\n",
       "      <td>0.933895</td>\n",
       "      <td>0.231616</td>\n",
       "      <td>0.349961</td>\n",
       "    </tr>\n",
       "    <tr>\n",
       "      <th>1</th>\n",
       "      <td>0.192086</td>\n",
       "      <td>0.011145</td>\n",
       "      <td>0.20</td>\n",
       "      <td>0.007914</td>\n",
       "      <td>0.761159</td>\n",
       "      <td>0.151894</td>\n",
       "      <td>0.228177</td>\n",
       "    </tr>\n",
       "    <tr>\n",
       "      <th>2</th>\n",
       "      <td>0.427116</td>\n",
       "      <td>0.024660</td>\n",
       "      <td>0.43</td>\n",
       "      <td>0.002884</td>\n",
       "      <td>0.546558</td>\n",
       "      <td>0.338185</td>\n",
       "      <td>0.506971</td>\n",
       "    </tr>\n",
       "    <tr>\n",
       "      <th>3</th>\n",
       "      <td>0.475283</td>\n",
       "      <td>0.034338</td>\n",
       "      <td>0.45</td>\n",
       "      <td>-0.025283</td>\n",
       "      <td>0.230771</td>\n",
       "      <td>0.351453</td>\n",
       "      <td>0.586476</td>\n",
       "    </tr>\n",
       "    <tr>\n",
       "      <th>4</th>\n",
       "      <td>0.134654</td>\n",
       "      <td>0.019223</td>\n",
       "      <td>0.18</td>\n",
       "      <td>0.045346</td>\n",
       "      <td>0.990836</td>\n",
       "      <td>0.065330</td>\n",
       "      <td>0.196903</td>\n",
       "    </tr>\n",
       "  </tbody>\n",
       "</table>\n",
       "</div>"
      ],
      "text/plain": [
       "     y_pred       std  y_act  residual       cdf      lb_y      ub_y\n",
       "0  0.293970  0.017291   0.32  0.026030  0.933895  0.231616  0.349961\n",
       "1  0.192086  0.011145   0.20  0.007914  0.761159  0.151894  0.228177\n",
       "2  0.427116  0.024660   0.43  0.002884  0.546558  0.338185  0.506971\n",
       "3  0.475283  0.034338   0.45 -0.025283  0.230771  0.351453  0.586476\n",
       "4  0.134654  0.019223   0.18  0.045346  0.990836  0.065330  0.196903"
      ]
     },
     "execution_count": 13,
     "metadata": {},
     "output_type": "execute_result"
    }
   ],
   "source": [
    "lb = 0.05\n",
    "ub = 0.95\n",
    "\n",
    "# Transform the lower and upper bounds to be calibrated\n",
    "lb_transform = iso_reg_inv.transform([lb])[0]\n",
    "ub_transform = iso_reg_inv.transform([ub])[0]\n",
    "\n",
    "# Compute the lower and upper bounds for each prediction given the mean and std\n",
    "test_df[\"lb_y\"] = test_df.apply(lambda x: norm.ppf(lb_transform, x[\"y_pred\"], x[\"std\"]), axis=1)\n",
    "test_df[\"ub_y\"] = test_df.apply(lambda x: norm.ppf(ub_transform, x[\"y_pred\"], x[\"std\"]), axis=1)\n",
    "\n",
    "test_df.head()"
   ]
  },
  {
   "cell_type": "code",
   "execution_count": 14,
   "metadata": {},
   "outputs": [
    {
     "data": {
      "text/html": [
       "<div>\n",
       "<style scoped>\n",
       "    .dataframe tbody tr th:only-of-type {\n",
       "        vertical-align: middle;\n",
       "    }\n",
       "\n",
       "    .dataframe tbody tr th {\n",
       "        vertical-align: top;\n",
       "    }\n",
       "\n",
       "    .dataframe thead th {\n",
       "        text-align: right;\n",
       "    }\n",
       "</style>\n",
       "<table border=\"1\" class=\"dataframe\">\n",
       "  <thead>\n",
       "    <tr style=\"text-align: right;\">\n",
       "      <th></th>\n",
       "      <th>y_pred</th>\n",
       "      <th>std</th>\n",
       "      <th>y_act</th>\n",
       "      <th>residual</th>\n",
       "      <th>cdf</th>\n",
       "      <th>p_hat</th>\n",
       "      <th>lb_y</th>\n",
       "      <th>ub_y</th>\n",
       "    </tr>\n",
       "  </thead>\n",
       "  <tbody>\n",
       "    <tr>\n",
       "      <th>0</th>\n",
       "      <td>0.315152</td>\n",
       "      <td>0.028042</td>\n",
       "      <td>0.32</td>\n",
       "      <td>0.004848</td>\n",
       "      <td>0.568627</td>\n",
       "      <td>0.458320</td>\n",
       "      <td>0.214027</td>\n",
       "      <td>0.405957</td>\n",
       "    </tr>\n",
       "    <tr>\n",
       "      <th>1</th>\n",
       "      <td>0.146364</td>\n",
       "      <td>0.028169</td>\n",
       "      <td>0.20</td>\n",
       "      <td>0.053636</td>\n",
       "      <td>0.971547</td>\n",
       "      <td>0.864980</td>\n",
       "      <td>0.044779</td>\n",
       "      <td>0.237583</td>\n",
       "    </tr>\n",
       "    <tr>\n",
       "      <th>2</th>\n",
       "      <td>0.416521</td>\n",
       "      <td>0.031533</td>\n",
       "      <td>0.43</td>\n",
       "      <td>0.013479</td>\n",
       "      <td>0.665483</td>\n",
       "      <td>0.534209</td>\n",
       "      <td>0.302805</td>\n",
       "      <td>0.518631</td>\n",
       "    </tr>\n",
       "    <tr>\n",
       "      <th>3</th>\n",
       "      <td>0.388123</td>\n",
       "      <td>0.068646</td>\n",
       "      <td>0.45</td>\n",
       "      <td>0.061877</td>\n",
       "      <td>0.816309</td>\n",
       "      <td>0.677820</td>\n",
       "      <td>0.140570</td>\n",
       "      <td>0.610414</td>\n",
       "    </tr>\n",
       "    <tr>\n",
       "      <th>4</th>\n",
       "      <td>0.245817</td>\n",
       "      <td>0.022109</td>\n",
       "      <td>0.18</td>\n",
       "      <td>-0.065817</td>\n",
       "      <td>0.001456</td>\n",
       "      <td>0.069565</td>\n",
       "      <td>0.166087</td>\n",
       "      <td>0.317411</td>\n",
       "    </tr>\n",
       "  </tbody>\n",
       "</table>\n",
       "</div>"
      ],
      "text/plain": [
       "     y_pred       std  y_act  residual       cdf     p_hat      lb_y      ub_y\n",
       "0  0.315152  0.028042   0.32  0.004848  0.568627  0.458320  0.214027  0.405957\n",
       "1  0.146364  0.028169   0.20  0.053636  0.971547  0.864980  0.044779  0.237583\n",
       "2  0.416521  0.031533   0.43  0.013479  0.665483  0.534209  0.302805  0.518631\n",
       "3  0.388123  0.068646   0.45  0.061877  0.816309  0.677820  0.140570  0.610414\n",
       "4  0.245817  0.022109   0.18 -0.065817  0.001456  0.069565  0.166087  0.317411"
      ]
     },
     "execution_count": 14,
     "metadata": {},
     "output_type": "execute_result"
    }
   ],
   "source": [
    "# Compute the lower and upper bounds for each prediction given the mean and std\n",
    "val_df[\"lb_y\"] = val_df.apply(lambda x: norm.ppf(lb_transform, x[\"y_pred\"], x[\"std\"]), axis=1)\n",
    "val_df[\"ub_y\"] = val_df.apply(lambda x: norm.ppf(ub_transform, x[\"y_pred\"], x[\"std\"]), axis=1)\n",
    "\n",
    "val_df.head()"
   ]
  },
  {
   "cell_type": "code",
   "execution_count": 15,
   "metadata": {},
   "outputs": [
    {
     "data": {
      "text/plain": [
       "0.8916101419167521"
      ]
     },
     "execution_count": 15,
     "metadata": {},
     "output_type": "execute_result"
    }
   ],
   "source": [
    "# Fraction of true picks that are within the calibrated lower and upper bounds \n",
    "((test_df[\"y_act\"] > test_df[\"lb_y\"]) & (test_df[\"y_act\"] < test_df[\"ub_y\"])).sum()/len(test_df)"
   ]
  },
  {
   "cell_type": "code",
   "execution_count": 16,
   "metadata": {},
   "outputs": [
    {
     "data": {
      "text/plain": [
       "0.9000160102465578"
      ]
     },
     "execution_count": 16,
     "metadata": {},
     "output_type": "execute_result"
    }
   ],
   "source": [
    "((val_df[\"y_act\"] > val_df[\"lb_y\"]) & (val_df[\"y_act\"] < val_df[\"ub_y\"])).sum()/len(val_df)"
   ]
  },
  {
   "cell_type": "code",
   "execution_count": 17,
   "metadata": {},
   "outputs": [
    {
     "data": {
      "text/plain": [
       "['p_calibration_model_medians_ensemble_IFtrimmed.joblib']"
      ]
     },
     "execution_count": 17,
     "metadata": {},
     "output_type": "execute_result"
    }
   ],
   "source": [
    "from joblib import dump\n",
    "dump(iso_reg_inv, 'p_calibration_model_medians_ensemble_IFtrimmed.joblib') "
   ]
  },
  {
   "cell_type": "code",
   "execution_count": 18,
   "metadata": {},
   "outputs": [
    {
     "name": "stdout",
     "output_type": "stream",
     "text": [
      "calibrated_regression_p_epoch60_N40.ipynb\r\n",
      "calibrated_regression_p_epoch60_N40_removeoutliers.ipynb\r\n",
      "calibrated_regression_p_loop_epochs.ipynb\r\n",
      "calibrated_regression_p_loop_N.ipynb\r\n",
      "ensemble_results_NGB.ipynb\r\n",
      "ensemble_results_test.ipynb\r\n",
      "\u001b[0m\u001b[01;32meval_swag_picker.sh\u001b[0m*\r\n",
      "\u001b[01;34mfigures\u001b[0m/\r\n",
      "\u001b[01;34mfigures_median\u001b[0m/\r\n",
      "\u001b[01;34mfigures_median_ensemblecal_fences\u001b[0m/\r\n",
      "\u001b[01;34mfigures_NGB\u001b[0m/\r\n",
      "\u001b[01;34mfigures_NGB_medians\u001b[0m/\r\n",
      "\u001b[01;34mold\u001b[0m/\r\n",
      "out.eval_62_N50\r\n",
      "out.eval_additional\r\n",
      "out.eval_additional_validation\r\n",
      "out.eval_ensemble_NGB\r\n",
      "out.eval_ensemble_test_fh\r\n",
      "out.eval_ensemble_validation\r\n",
      "out.eval_N_100\r\n",
      "out.eval_new_ensembles_over_epochs\r\n",
      "out.eval_over_splits_N40\r\n",
      "out.train_ensemble\r\n",
      "out.train_ensemble_more_iterations\r\n",
      "out.train_more_epochs\r\n",
      "p_calibration_model.joblib\r\n",
      "p_calibration_model_medians_ensemble_IFtrimmed.joblib\r\n",
      "p_calibration_model_medians_ensemble.joblib\r\n",
      "p_calibration_model_medians.joblib\r\n",
      "\u001b[01;34mseed1_128_0.0005_5e-3_0.0002_75_25_20\u001b[0m/\r\n",
      "\u001b[01;34mseed2_128_0.0005_5e-3_0.0002_75_25_20\u001b[0m/\r\n",
      "\u001b[01;34mseed3_128_0.0005_5e-3_0.0002_75_25_20\u001b[0m/\r\n",
      "\u001b[01;34mselected_models\u001b[0m/\r\n",
      "\u001b[01;32mtrain_swag_picker_resume.sh\u001b[0m*\r\n",
      "\u001b[01;32mtrain_swag_picker.sh\u001b[0m*\r\n"
     ]
    }
   ],
   "source": [
    "ls"
   ]
  },
  {
   "cell_type": "code",
   "execution_count": null,
   "metadata": {},
   "outputs": [],
   "source": []
  }
 ],
 "metadata": {
  "kernelspec": {
   "display_name": "Python 3",
   "language": "python",
   "name": "python3"
  },
  "language_info": {
   "codemirror_mode": {
    "name": "ipython",
    "version": 3
   },
   "file_extension": ".py",
   "mimetype": "text/x-python",
   "name": "python",
   "nbconvert_exporter": "python",
   "pygments_lexer": "ipython3",
   "version": "3.8.5"
  }
 },
 "nbformat": 4,
 "nbformat_minor": 5
}
