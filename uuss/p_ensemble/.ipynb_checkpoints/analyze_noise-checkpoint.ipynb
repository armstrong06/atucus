{
 "cells": [
  {
   "cell_type": "code",
   "execution_count": 1,
   "metadata": {},
   "outputs": [],
   "source": [
    "from math import comb\n",
    "import numpy as np\n",
    "import matplotlib.pyplot as plt\n",
    "from scipy.stats import norm \n",
    "import os\n",
    "import pandas as pd"
   ]
  },
  {
   "cell_type": "code",
   "execution_count": 2,
   "metadata": {},
   "outputs": [
    {
     "data": {
      "text/plain": [
       "'/home/armstrong/Research/git_repos/patprob/no_duplicates/p_ensemble'"
      ]
     },
     "execution_count": 2,
     "metadata": {},
     "output_type": "execute_result"
    }
   ],
   "source": [
    "pwd"
   ]
  },
  {
   "cell_type": "code",
   "execution_count": 3,
   "metadata": {},
   "outputs": [],
   "source": [
    "def compute_outer_fence_mean_standard_deviation(residuals):\n",
    "        \"\"\" \n",
    "        Computes the mean and standard deviation using the outer fence method.\n",
    "        The outerfence is [25'th percentile - 1.5*IQR, 75'th percentile + 1.5*IQR]\n",
    "        where IQR is the interquartile range.\n",
    "\n",
    "        Parameters\n",
    "        ----------\n",
    "        residuals : The travel time residuals in seconds.\n",
    "\n",
    "        Results\n",
    "        -------\n",
    "        mean : The mean (seconds) of the residuals in the outer fence.\n",
    "        std : The standard deviation (seconds) of the residuals in the outer fence.  \n",
    "        \"\"\"\n",
    "        q1, q3 = np.percentile(residuals, [25,75])\n",
    "        iqr = q3 - q1\n",
    "        of1 = q1 - 3.0*iqr\n",
    "        of3 = q3 + 3.0*iqr\n",
    "        trimmed_residuals = residuals[(residuals > of1) & (residuals < of3)]\n",
    "        #print(len(trimmed_residuals), len(residuals), of1, of3)\n",
    "        mean = np.mean(trimmed_residuals)\n",
    "        std = np.std(trimmed_residuals)\n",
    "        return mean, std"
   ]
  },
  {
   "cell_type": "code",
   "execution_count": 4,
   "metadata": {},
   "outputs": [],
   "source": [
    "N = 40\n",
    "\n",
    "figdir=f\"./figures_noise_N{N}\"\n",
    "if not os.path.exists(figdir):\n",
    "    os.makedirs(figdir)\n",
    "    \n",
    "data_path = \"../uuss_data/p_resampled\""
   ]
  },
  {
   "cell_type": "code",
   "execution_count": 5,
   "metadata": {},
   "outputs": [],
   "source": [
    "def load_model_results(file_name, N=-1):\n",
    "    file = np.load(file_name)\n",
    "    predictions = file[\"predictions\"][:, :N]\n",
    "    targets = file[\"targets\"][:, 0]\n",
    "\n",
    "    return predictions, targets"
   ]
  },
  {
   "cell_type": "code",
   "execution_count": 8,
   "metadata": {},
   "outputs": [],
   "source": [
    "model1_file = \"seed1_128_0.0005_5e-3_0.0002_75_25_20/eval_40_noise/swag_YSnoiseZ_uncertainty_60.npz\"\n",
    "model2_file = \"seed2_128_0.0005_5e-3_0.0002_75_25_20/eval_40_noise/swag_YSnoiseZ_uncertainty_60.npz\"\n",
    "model3_file = \"seed3_128_0.0005_5e-3_0.0002_75_25_20/eval_40_noise/swag_YSnoiseZ_uncertainty_60.npz\"\n",
    "\n",
    "model1_preds, model1_targets = load_model_results(model1_file, N=N)\n",
    "model2_preds, model2_targets = load_model_results(model2_file, N=N)\n",
    "model3_preds, model3_targets = load_model_results(model3_file, N=N)"
   ]
  },
  {
   "cell_type": "code",
   "execution_count": 9,
   "metadata": {},
   "outputs": [
    {
     "data": {
      "text/plain": [
       "(50295, 40)"
      ]
     },
     "execution_count": 9,
     "metadata": {},
     "output_type": "execute_result"
    }
   ],
   "source": [
    "model1_preds.shape"
   ]
  },
  {
   "cell_type": "code",
   "execution_count": 10,
   "metadata": {},
   "outputs": [],
   "source": [
    "combined_predictions = np.concatenate([model1_preds, model2_preds, model3_preds], axis=1)\n",
    "assert np.array_equal(model1_targets, model2_targets)\n",
    "assert np.array_equal(model1_targets, model3_targets)"
   ]
  },
  {
   "cell_type": "code",
   "execution_count": 11,
   "metadata": {},
   "outputs": [
    {
     "data": {
      "text/plain": [
       "(50295, 120)"
      ]
     },
     "execution_count": 11,
     "metadata": {},
     "output_type": "execute_result"
    }
   ],
   "source": [
    "combined_predictions.shape"
   ]
  },
  {
   "cell_type": "code",
   "execution_count": 12,
   "metadata": {},
   "outputs": [],
   "source": [
    "combined_medians = np.median(combined_predictions, axis=1)\n",
    "combined_stds = np.std(combined_predictions, axis=1)"
   ]
  },
  {
   "cell_type": "code",
   "execution_count": 13,
   "metadata": {},
   "outputs": [
    {
     "data": {
      "text/plain": [
       "(array([   13.,   123.,   611.,  4971.,  3065.,  3301.,  6451.,  8532.,\n",
       "        12179., 11049.]),\n",
       " array([0.   , 0.075, 0.15 , 0.225, 0.3  , 0.375, 0.45 , 0.525, 0.6  ,\n",
       "        0.675, 0.75 ]),\n",
       " <BarContainer object of 10 artists>)"
      ]
     },
     "execution_count": 13,
     "metadata": {},
     "output_type": "execute_result"
    },
    {
     "data": {
      "image/png": "[encoded data removed]",
      "text/plain": [
       "<Figure size 432x288 with 1 Axes>"
      ]
     },
     "metadata": {
      "needs_background": "light"
     },
     "output_type": "display_data"
    }
   ],
   "source": [
    "plt.hist(combined_stds)"
   ]
  },
  {
   "cell_type": "code",
   "execution_count": 15,
   "metadata": {},
   "outputs": [],
   "source": [
    "import h5py\n",
    "with h5py.File(f\"{data_path}/YSnoiseZ_4s.h5\", \"r\") as f:\n",
    "    X = f[\"X\"][:]"
   ]
  },
  {
   "cell_type": "code",
   "execution_count": 20,
   "metadata": {},
   "outputs": [],
   "source": [
    "wf_center = X.shape[1]//2\n",
    "for i in range(591, 592):\n",
    "    shift = 0.00\n",
    "    shifted_m1_preds = model1_preds[i, :] - shift\n",
    "    shifted_m2_preds = model2_preds[i, :] - shift\n",
    "    shifted_m3_preds = model3_preds[i, :] - shift\n",
    "    shifted_pick = combined_medians[i] - shift\n",
    "    std = combined_stds[i]\n",
    "    fig, ax = plt.subplots(1)\n",
    "        \n",
    "    ## Horizontal line at 0\n",
    "    ax.axhline(0, alpha=0.2, color=\"k\")\n",
    "\n",
    "    width = round(1.0)\n",
    "    bins = np.arange(round(-1*width, 2), round(width, 2), 0.05)\n",
    "\n",
    "    bins = ax.hist([shifted_m1_preds, shifted_m2_preds, shifted_m3_preds], bins=bins, stacked=True, density = True, \n",
    "                   alpha=1.0, edgecolor=\"black\", linewidth=0.7, label=[\"m1\", \"m2\", \"m3\"], \n",
    "                   color=[\"#5ab4ac\", \"#c7eae5\", \"#01665e\"])\n",
    "\n",
    "    \n",
    "    ## Trim and scale waveform\n",
    "    max_dens = np.max(bins[0])\n",
    "\n",
    "    pick_loc = wf_center\n",
    "    wf_width = width*100\n",
    "    wf = (X[i, pick_loc-wf_width:pick_loc+wf_width+1])\n",
    "    wf_norm = max_dens/np.max(abs(wf))\n",
    "\n",
    "    ## Plot waveform\n",
    "    x_vals = np.arange(-width, round(width+0.01, 2), 0.01)\n",
    "    ax.plot(x_vals[:len(wf)], wf*wf_norm, color=\"dimgray\", label=\"Z\")\n",
    "\n",
    "    \n",
    "    ## Only plot positive density ticks\n",
    "    ax.set_yticks(np.arange(0, max_dens+10, 10))\n",
    "    \n",
    "    ## Plot STD and Pick Quality Information\n",
    "    ax.text(0.025, 0.75, f\"STD: {str(round(std, 3))}\", transform=ax.transAxes, fontsize=12, \n",
    "           bbox=dict(facecolor='white', alpha=0.9, edgecolor=\"lightgrey\", boxstyle=\"round\"))\n",
    "    \n",
    "    ## Set X & Y labels\n",
    "    ax.set_ylabel(\"Density\", fontsize=14)\n",
    "    ax.set_xlabel(\"Seconds\", fontsize=14)\n",
    "    \n",
    "    ## Only plot STD lines for positive density\n",
    "    ylim = ax.get_ylim()\n",
    "\n",
    "    \n",
    "    ax.axvline(shifted_pick - std, linestyle=\"--\", label=\"1 std\", linewidth=2.5, color=\"#d8b365\") #color=\"#f6e8c3\")\n",
    "    ax.axvline(shifted_pick + std, linestyle=\"--\", linewidth=2.5, color=\"#d8b365\") # color=\"#f6e8c3\")\n",
    "   \n",
    "    ax.set_ylim([np.min([ylim[0], -0.75*ylim[1]]), ylim[1]])\n",
    "    \n",
    "    ## Plot picks\n",
    "    ax.axvline(shifted_pick, label=\"y_pred\", linewidth=2, color=\"#d8b365\")\n",
    "        \n",
    "    ## Change order of legend to make more sense/look better\n",
    "    plt.legend(ncol=2)\n",
    "    #ax.legend(loc=\"lower left\", ncol=3)\n",
    "    plt.savefig(f\"{figdir}/test_wf_{i:02d}.jpg\")\n",
    "    plt.close()\n",
    "    #plt.show()\n",
    "    \n",
    "#     plt.figure()\n",
    "#     plt.plot(range(len(x_e)), x_e/np.max(abs(x_e)))\n",
    "#     plt.plot(range(len(x_n)), x_n/np.max(abs(x_n))-1)\n",
    "#     plt.plot(range(len(x_t)), x_t/np.max(abs(x_t))-2)"
   ]
  },
  {
   "cell_type": "code",
   "execution_count": 19,
   "metadata": {},
   "outputs": [
    {
     "data": {
      "text/plain": [
       "591"
      ]
     },
     "execution_count": 19,
     "metadata": {},
     "output_type": "execute_result"
    }
   ],
   "source": [
    "np.argmin(combined_stds)"
   ]
  },
  {
   "cell_type": "code",
   "execution_count": 21,
   "metadata": {},
   "outputs": [
    {
     "data": {
      "text/plain": [
       "591"
      ]
     },
     "execution_count": 21,
     "metadata": {},
     "output_type": "execute_result"
    }
   ],
   "source": [
    "i"
   ]
  },
  {
   "cell_type": "code",
   "execution_count": null,
   "metadata": {},
   "outputs": [],
   "source": []
  }
 ],
 "metadata": {
  "kernelspec": {
   "display_name": "Python 3",
   "language": "python",
   "name": "python3"
  },
  "language_info": {
   "codemirror_mode": {
    "name": "ipython",
    "version": 3
   },
   "file_extension": ".py",
   "mimetype": "text/x-python",
   "name": "python",
   "nbconvert_exporter": "python",
   "pygments_lexer": "ipython3",
   "version": "3.8.5"
  }
 },
 "nbformat": 4,
 "nbformat_minor": 5
}
